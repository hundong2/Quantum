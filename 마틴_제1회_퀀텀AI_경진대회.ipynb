{
  "cells": [
    {
      "cell_type": "markdown",
      "metadata": {
        "id": "view-in-github",
        "colab_type": "text"
      },
      "source": [
        "<a href=\"https://colab.research.google.com/github/hundong2/Quantum/blob/main/%EB%A7%88%ED%8B%B4_%EC%A0%9C1%ED%9A%8C_%ED%80%80%ED%85%80AI_%EA%B2%BD%EC%A7%84%EB%8C%80%ED%9A%8C.ipynb\" target=\"_parent\"><img src=\"https://colab.research.google.com/assets/colab-badge.svg\" alt=\"Open In Colab\"/></a>"
      ]
    },
    {
      "cell_type": "markdown",
      "id": "a560a5bf",
      "metadata": {
        "id": "a560a5bf"
      },
      "source": [
        "# Quantum Machine learning / 퀀텀AI 경진대회 참가"
      ]
    },
    {
      "cell_type": "markdown",
      "id": "373e4683",
      "metadata": {
        "id": "373e4683"
      },
      "source": [
        "안녕하세요, 마틴입니다. 양자컴퓨팅에 관심을 가지고 있던 중 이렇게 좋은 기회로 경진대회에 참가할 수 있어 기쁜 마음입니다.\n",
        "\n",
        "이 노트북에는, 경진대회 참가 기본 가이드에 추가하여 경진대회 참가를 위해 수집/학습한 정보들 및 성능향상을 위한 코드와 그 설명을 포함하고 있습니다.\n"
      ]
    },
    {
      "cell_type": "markdown",
      "id": "w3yUtk-KeoS8",
      "metadata": {
        "id": "w3yUtk-KeoS8"
      },
      "source": [
        "# 퀀텀AI란?"
      ]
    },
    {
      "cell_type": "markdown",
      "id": "cAOfEVhmaN-h",
      "metadata": {
        "id": "cAOfEVhmaN-h"
      },
      "source": [
        "양자컴퓨팅 기술을 인공지능(AI)에 적용하거나, 양자역학적 원리를 기반으로 한 새로운 형태의 AI 알고리즘으로,\n",
        "1. `기존 AI 알고리즘을 양자컴퓨터에서 실행`하여 성능을 높이는 방식과\n",
        "\n",
        "> 예를 들어, 양자 지원 신경망(QNN), 양자 강화학습(QRL), 양자 서포트 벡터머신(QSVM) 등\n",
        "\n",
        "\n",
        "2. `양자역학의 중첩, 얽힘, 불확정성 등 개념을 차용`하여 기존 모델을 더 유연하고 창의적으로 설계하는 방식이 존재합니다."
      ]
    },
    {
      "cell_type": "markdown",
      "id": "eYe7wvDSevwj",
      "metadata": {
        "id": "eYe7wvDSevwj"
      },
      "source": [
        "## QML Framework"
      ]
    },
    {
      "cell_type": "markdown",
      "id": "61a4fbed",
      "metadata": {
        "id": "61a4fbed"
      },
      "source": [
        "양자컴퓨팅 기반의 머신러닝 프레임워크를 QML framework이라고 부릅니다.\n",
        "\n",
        "대표적으로,\n",
        "1. `PennyLane`: Xanadu에서 개발. PyTorch, TensorFlow와 연동 가능\n",
        "2. `Qiskit Machine Learning`: IBM의 Qiskit에 포함된 모듈\n",
        "3. `TensorFlow Quantum`: Google이 개발한 양자 딥러닝 프레임워크\n",
        "4. `Strawberry Fields`: 광학 기반 양자기계학습 플랫폼 (Xanadu)\n",
        "\n",
        "등이 존재합니다.\n",
        "\n",
        "\n",
        "> 경진대회 기본 가이드에서는 PennyLane을 사용할 것을 추천 합니다.\n",
        "Pennylane에 대한 Tutorial과 자세한 사항들은 [Pennylane codebook](https://pennylane.ai/codebook)과 [Demos](https://pennylane.ai/search/?contentType=DEMO&categories=how-to&sort=publication_date) 를 참고하세요.\n",
        "\n"
      ]
    },
    {
      "cell_type": "markdown",
      "id": "ge1LjN4SeY2u",
      "metadata": {
        "id": "ge1LjN4SeY2u"
      },
      "source": [
        "### pennylane의 설치"
      ]
    },
    {
      "cell_type": "code",
      "execution_count": null,
      "id": "9b632a1d-0f76-4193-9542-94e4bd6d2ed2",
      "metadata": {
        "colab": {
          "base_uri": "https://localhost:8080/"
        },
        "id": "9b632a1d-0f76-4193-9542-94e4bd6d2ed2",
        "outputId": "9c7dabac-79f1-4d9b-d205-8aaea4f061ab"
      },
      "outputs": [
        {
          "output_type": "stream",
          "name": "stdout",
          "text": [
            "Requirement already satisfied: pennylane in /usr/local/lib/python3.11/dist-packages (0.41.1)\n",
            "Requirement already satisfied: numpy in /usr/local/lib/python3.11/dist-packages (from pennylane) (2.0.2)\n",
            "Requirement already satisfied: scipy in /usr/local/lib/python3.11/dist-packages (from pennylane) (1.15.3)\n",
            "Requirement already satisfied: networkx in /usr/local/lib/python3.11/dist-packages (from pennylane) (3.5)\n",
            "Requirement already satisfied: rustworkx>=0.14.0 in /usr/local/lib/python3.11/dist-packages (from pennylane) (0.16.0)\n",
            "Requirement already satisfied: autograd in /usr/local/lib/python3.11/dist-packages (from pennylane) (1.8.0)\n",
            "Requirement already satisfied: tomlkit in /usr/local/lib/python3.11/dist-packages (from pennylane) (0.13.3)\n",
            "Requirement already satisfied: appdirs in /usr/local/lib/python3.11/dist-packages (from pennylane) (1.4.4)\n",
            "Requirement already satisfied: autoray>=0.6.11 in /usr/local/lib/python3.11/dist-packages (from pennylane) (0.7.2)\n",
            "Requirement already satisfied: cachetools in /usr/local/lib/python3.11/dist-packages (from pennylane) (5.5.2)\n",
            "Requirement already satisfied: pennylane-lightning>=0.41 in /usr/local/lib/python3.11/dist-packages (from pennylane) (0.41.1)\n",
            "Requirement already satisfied: requests in /usr/local/lib/python3.11/dist-packages (from pennylane) (2.32.3)\n",
            "Requirement already satisfied: typing-extensions in /usr/local/lib/python3.11/dist-packages (from pennylane) (4.14.1)\n",
            "Requirement already satisfied: packaging in /usr/local/lib/python3.11/dist-packages (from pennylane) (24.2)\n",
            "Requirement already satisfied: diastatic-malt in /usr/local/lib/python3.11/dist-packages (from pennylane) (2.15.2)\n",
            "Requirement already satisfied: scipy-openblas32>=0.3.26 in /usr/local/lib/python3.11/dist-packages (from pennylane-lightning>=0.41->pennylane) (0.3.30.0.1)\n",
            "Requirement already satisfied: astunparse in /usr/local/lib/python3.11/dist-packages (from diastatic-malt->pennylane) (1.6.3)\n",
            "Requirement already satisfied: gast in /usr/local/lib/python3.11/dist-packages (from diastatic-malt->pennylane) (0.6.0)\n",
            "Requirement already satisfied: termcolor in /usr/local/lib/python3.11/dist-packages (from diastatic-malt->pennylane) (3.1.0)\n",
            "Requirement already satisfied: charset-normalizer<4,>=2 in /usr/local/lib/python3.11/dist-packages (from requests->pennylane) (3.4.2)\n",
            "Requirement already satisfied: idna<4,>=2.5 in /usr/local/lib/python3.11/dist-packages (from requests->pennylane) (3.10)\n",
            "Requirement already satisfied: urllib3<3,>=1.21.1 in /usr/local/lib/python3.11/dist-packages (from requests->pennylane) (2.4.0)\n",
            "Requirement already satisfied: certifi>=2017.4.17 in /usr/local/lib/python3.11/dist-packages (from requests->pennylane) (2025.7.9)\n",
            "Requirement already satisfied: wheel<1.0,>=0.23.0 in /usr/local/lib/python3.11/dist-packages (from astunparse->diastatic-malt->pennylane) (0.45.1)\n",
            "Requirement already satisfied: six<2.0,>=1.6.1 in /usr/local/lib/python3.11/dist-packages (from astunparse->diastatic-malt->pennylane) (1.17.0)\n"
          ]
        }
      ],
      "source": [
        "!pip install pennylane"
      ]
    },
    {
      "cell_type": "markdown",
      "id": "ANLEWrEwfof9",
      "metadata": {
        "id": "ANLEWrEwfof9"
      },
      "source": [
        "## 주요 개념 설명\n",
        "`Qubit (큐비트)`: 양자 정보를 담는 최소 단위. 0과 1 상태의 중첩(superposition)이 가능\n",
        "\n",
        "`Gate (게이트)`: 큐비트에 작용하는 연산. 예: H, X, S, CNOT\n",
        "\n",
        "\n",
        "> 1. Hadamard 게이트 (H):\n",
        "큐비트를 중첩 상태(Superposition)로 만듭니다. 비유하자면, 동전을 던지기 전, 앞면과 뒷면이 모두 가능한 50:50 상태로 만든다고 보면 됩니다.\n",
        "  \n",
        "> 2. Pauli-X 게이트 (X):\n",
        "고전 컴퓨터의 NOT 게이트에 해당합니다. |0⟩ ↔ |1⟩를 서로 바꿉니다.\n",
        "\n",
        "> 3. S 게이트 (Phase 게이트): 큐비트의 상태에 위상을 추가합니다. |0⟩은 그대로, |1⟩은 π/2 (90도) 회전. 위상 게이트는 얽힘 회로 설계나 간섭 실험에서 중요하게 사용됩니다.\n",
        "\n",
        "> 4. CNOT 게이트 (Controlled-X): 두 큐비트를 사용하는 제어 게이트입니다. \t첫 번째 큐비트(제어 큐비트)가 |1⟩일 때만, 두 번째 큐비트(타겟 큐비트)에 X 게이트를 적용합니다. 얽힘 상태(Bell state)를 만드는 데 핵심적으로 쓰입니다.\n",
        "\n",
        "`Quantum Circuit`: 여러 게이트가 순서대로 연결된 흐름. 고전 회로와 유사하지만 양자적 효과 존재\n",
        "Device\n",
        "회로를 실행할 양자 컴퓨터 또는 시뮬레이터 (default.qubit, qiskit.aer, 등)\n",
        "\n",
        "`QNode (Quantum Node)`: Python 함수로 표현된 회로. Autograd 등과 연동 가능\n",
        "\n",
        "`Measurement`: 회로를 끝내고 확률 또는 상태를 관측하는 부분. qml.expval, qml.probs 등\n"
      ]
    },
    {
      "cell_type": "markdown",
      "id": "d734b599",
      "metadata": {
        "id": "d734b599"
      },
      "source": [
        "## 양자 회로 설계하기"
      ]
    },
    {
      "cell_type": "markdown",
      "id": "SRQpWrw8v2Br",
      "metadata": {
        "id": "SRQpWrw8v2Br"
      },
      "source": [
        "### Backend (시뮬레이터 디바이스)\n",
        "\n",
        "Backend는 실제 양자 회로를 구동하는 시뮬레이터, 혹은 양자 컴퓨터입니다. 한 개의 회로를 어느 기기에서 돌릴 지 미리 선언을 해주어야 합니다.\n",
        "\n",
        "\n",
        "**Backend 선택하기**\n",
        "\n",
        "다양한 Backend를 양자 회로를 돌리는 데 사용할 수 있습니다. Pennylaned의 `default.qubit`, `lightning.qubit`등 뿐만 아니라, Qiskit, IQM 등 실제 양자 컴퓨터의 Backend interface를 가져와 사용할 수도 있습니다.\n",
        "그러나, QML을 구현하고 시험해 볼 때는 `default.qubit`이 권장됩니다. 다른 ML 프레임워크와의 결합도 간편할 뿐더러 가장 빠른 differentiation 방법을 제공합니다.\n",
        "\n",
        "Backend 선택과 개별 device에 대한 정보는 Pennylane의 공식 문서: [Quantum Devices](https://pennylane.ai/devices)를 참고하세요."
      ]
    },
    {
      "cell_type": "markdown",
      "id": "7T9knhXFlENu",
      "metadata": {
        "id": "7T9knhXFlENu"
      },
      "source": [
        "### 기본 회로 설계"
      ]
    },
    {
      "cell_type": "code",
      "execution_count": null,
      "id": "e76f92fa",
      "metadata": {
        "colab": {
          "base_uri": "https://localhost:8080/"
        },
        "id": "e76f92fa",
        "outputId": "9af3e67e-33cb-4840-d246-7738210d2c4d"
      },
      "outputs": [
        {
          "output_type": "stream",
          "name": "stderr",
          "text": [
            "/usr/local/lib/python3.11/dist-packages/pennylane/capture/capture_operators.py:33: RuntimeWarning: PennyLane is not yet compatible with JAX versions > 0.4.28. You have version 0.5.2 installed. Please downgrade JAX to <=0.4.28 to avoid runtime errors.\n",
            "  warnings.warn(\n"
          ]
        }
      ],
      "source": [
        "# PennyLane을 qml이라는 이름으로 import합니다. QML = Quantum Machine Learning의 약자입니다.\n",
        "import pennylane as qml\n",
        "\n",
        "# numpy도 함께 사용 (수학 연산, 배열 처리 등)\n",
        "import numpy as np\n",
        "\n",
        "# 시뮬레이터 디바이스 정의: default.qubit은 PennyLane에서 제공하는 기본 양자 시뮬레이터입니다.\n",
        "# wires=3은 3개의 큐비트(0, 1, 2번)를 사용할 것임을 의미합니다.\n",
        "dev = qml.device(\"default.qubit\", wires=3)\n",
        "\n",
        "# 양자 회로를 정의하는 QNode입니다. 데코레이터 @qml.qnode(dev)를 사용해 QNode로 등록합니다.\n",
        "@qml.qnode(dev)\n",
        "def circuit():\n",
        "    # 0번 큐비트에 Hadamard 게이트를 적용합니다. (|0⟩ → (|0⟩ + |1⟩)/√2)\n",
        "    qml.Hadamard(wires=0)\n",
        "\n",
        "    # 0번 큐비트에 S 게이트를 적용합니다. (Z축 회전, 위상 추가)\n",
        "    qml.S(wires=0)\n",
        "\n",
        "    # 1번 큐비트에 Hadamard 게이트를 적용합니다. 상태를 중첩시킵니다.\n",
        "    qml.Hadamard(wires=1)\n",
        "\n",
        "    # 2번 큐비트에도 Hadamard 게이트를 적용합니다.\n",
        "    qml.Hadamard(wires=2)\n",
        "\n",
        "    # 회로의 출력을 확률(probability) 분포로 반환합니다.\n",
        "    # 총 3개의 큐비트 → 2^3 = 8개의 상태에 대한 확률을 리턴합니다.\n",
        "    return qml.probs(wires=[0, 1, 2])"
      ]
    },
    {
      "cell_type": "markdown",
      "id": "a43R6fDo-82a",
      "metadata": {
        "id": "a43R6fDo-82a"
      },
      "source": [
        "### 양자 회로 그리기"
      ]
    },
    {
      "cell_type": "code",
      "execution_count": null,
      "id": "dee36ce1",
      "metadata": {
        "colab": {
          "base_uri": "https://localhost:8080/"
        },
        "id": "dee36ce1",
        "outputId": "6c4c8df5-971a-488d-aca8-fde2b2b11798"
      },
      "outputs": [
        {
          "output_type": "stream",
          "name": "stdout",
          "text": [
            "0: ──H──S─┤ ╭Probs\n",
            "1: ──H────┤ ├Probs\n",
            "2: ──H────┤ ╰Probs\n",
            "측정 확률 분포: [0.125 0.125 0.125 0.125 0.125 0.125 0.125 0.125]\n",
            "총합 확인: 0.9999999999999996\n"
          ]
        }
      ],
      "source": [
        "print(qml.draw(circuit)())\n",
        "\n",
        "# 회로의 확률분포를 시각화 하고 총 합을 확인해 볼 수 있습니다.\n",
        "probs = circuit()\n",
        "print(\"측정 확률 분포:\", probs)\n",
        "print(\"총합 확인:\", np.sum(probs))  # 항상 1이어야 합니다."
      ]
    },
    {
      "cell_type": "code",
      "execution_count": null,
      "id": "38407a51",
      "metadata": {
        "colab": {
          "base_uri": "https://localhost:8080/",
          "height": 453
        },
        "id": "38407a51",
        "outputId": "4f319781-084a-4fed-af38-447e581ceb19"
      },
      "outputs": [
        {
          "output_type": "execute_result",
          "data": {
            "text/plain": [
              "(<Figure size 500x400 with 1 Axes>, <Axes: >)"
            ]
          },
          "metadata": {},
          "execution_count": 4
        },
        {
          "output_type": "display_data",
          "data": {
            "text/plain": [
              "<Figure size 500x400 with 1 Axes>"
            ],
            "image/png": "[encoded data removed]"
          },
          "metadata": {}
        }
      ],
      "source": [
        "qml.draw_mpl(circuit)()"
      ]
    },
    {
      "cell_type": "markdown",
      "id": "10db9939",
      "metadata": {
        "id": "10db9939"
      },
      "source": [
        "|양자 회로| ML|\n",
        "|:--:|:--:|\n",
        "|Quantum Circuit| Layer, ML Module|\n",
        "|Backend | device(CPU, CUDA, ...)|"
      ]
    },
    {
      "cell_type": "markdown",
      "id": "VcMl0HyRm4C2",
      "metadata": {
        "id": "VcMl0HyRm4C2"
      },
      "source": [
        "### 양자얽힘 상태 만들어보기\n",
        "**양자 얽힘 상태(Entangled State)**는 양자 컴퓨팅의 핵심 개념 중 하나이며, 직접 회로를 만들어보면 이해하기 훨씬 좋을 것 같습니다.\n",
        "\n",
        "가장 기본적인 상태는 Bell상태 입니다. 쉽게 설명해 보면, 주머니에 두 개의 동전이 있고 동전은 마법처럼 연결되어 있어서, 어디에 떨어뜨리든 둘 다 같은 면이 나옵니다. 예를 들어, 회사에서 동전을 던졌는데 앞면이 나왔다면, 아내가 집에서 던진 동전도 반드시 앞면이 나옵니다. 심지어 둘이 서로 동전의 결과를 말하기 전까지는 앞인지 뒷면인지 아무도 알 수 없습니다.\n",
        "\n",
        "확률적으로는,\n",
        "- 두 큐비트가 둘 다 0일 확률 = 50%\n",
        "- 둘 다 1일 확률 = 50%\n",
        "- 그런데 하나가 0이고, 하나가 1일 가능성은 전혀 없음\n",
        "\n",
        "이런, Bell 상태를 생성하고 확인해 보겠습니다."
      ]
    },
    {
      "cell_type": "code",
      "execution_count": null,
      "id": "Qsn7A5pmofvk",
      "metadata": {
        "id": "Qsn7A5pmofvk"
      },
      "outputs": [],
      "source": [
        "# 2개의 큐비트를 사용하는 시뮬레이터\n",
        "dev = qml.device(\"default.qubit\", wires=2)\n",
        "\n",
        "@qml.qnode(dev)\n",
        "def bell_circuit():\n",
        "    # Hadamard 게이트로 0번 큐비트를 중첩시킴\n",
        "    qml.Hadamard(wires=0)\n",
        "\n",
        "    # CNOT 게이트로 0번 큐비트와 1번 큐비트를 얽음\n",
        "    # 0번이 제어, 1번이 타겟인 CNOT 게이트\n",
        "    qml.CNOT(wires=[0, 1])\n",
        "\n",
        "    # 두 큐비트의 상태를 추출\n",
        "    return qml.state()"
      ]
    },
    {
      "cell_type": "code",
      "execution_count": null,
      "id": "cvrjne0oowEL",
      "metadata": {
        "colab": {
          "base_uri": "https://localhost:8080/"
        },
        "id": "cvrjne0oowEL",
        "outputId": "5704dbbd-b0c1-4079-fb9c-c0ba475ddd7e"
      },
      "outputs": [
        {
          "output_type": "stream",
          "name": "stdout",
          "text": [
            "양자 상태 (State vector): [0.70710678+0.j 0.        +0.j 0.        +0.j 0.70710678+0.j]\n",
            "|00>: 0.5000\n",
            "|01>: 0.0000\n",
            "|10>: 0.0000\n",
            "|11>: 0.5000\n"
          ]
        }
      ],
      "source": [
        "# 회로 실행\n",
        "state = bell_circuit()\n",
        "\n",
        "# 출력: 양자 상태 벡터\n",
        "print(\"양자 상태 (State vector):\", state)\n",
        "\n",
        "# 확률로 확인 (|00>, |01>, |10>, |11>)\n",
        "probs = np.abs(state) ** 2\n",
        "for i, p in enumerate(probs):\n",
        "    print(f\"|{i:02b}>: {p:.4f}\")"
      ]
    },
    {
      "cell_type": "code",
      "execution_count": null,
      "id": "Jnl_zIyHo3pO",
      "metadata": {
        "colab": {
          "base_uri": "https://localhost:8080/"
        },
        "id": "Jnl_zIyHo3pO",
        "outputId": "0bb8c76c-5706-499c-e41d-118c962b2ce8"
      },
      "outputs": [
        {
          "output_type": "stream",
          "name": "stdout",
          "text": [
            "0: ──H─╭●─┤  State\n",
            "1: ────╰X─┤  State\n"
          ]
        }
      ],
      "source": [
        "# 상태 시각화\n",
        "print(qml.draw(bell_circuit)())"
      ]
    },
    {
      "cell_type": "markdown",
      "id": "3UZheOM2kdnl",
      "metadata": {
        "id": "3UZheOM2kdnl"
      },
      "source": [
        "### 간단한 분류모델 만들어보기\n",
        "파라미터화된 양자 회로(Variational Quantum Circuit, VQC)**로 간단한 **이진 분류 문제(binary classification)**를 풀어보는 예제를 만들어 보겠습니다."
      ]
    },
    {
      "cell_type": "code",
      "execution_count": null,
      "id": "GYPo0iTXlbUz",
      "metadata": {
        "colab": {
          "base_uri": "https://localhost:8080/"
        },
        "id": "GYPo0iTXlbUz",
        "outputId": "27fddd5e-431f-4fc1-b9ba-4e2e16f276b7"
      },
      "outputs": [
        {
          "output_type": "stream",
          "name": "stdout",
          "text": [
            "Requirement already satisfied: matplotlib in /usr/local/lib/python3.11/dist-packages (3.10.0)\n",
            "Requirement already satisfied: contourpy>=1.0.1 in /usr/local/lib/python3.11/dist-packages (from matplotlib) (1.3.2)\n",
            "Requirement already satisfied: cycler>=0.10 in /usr/local/lib/python3.11/dist-packages (from matplotlib) (0.12.1)\n",
            "Requirement already satisfied: fonttools>=4.22.0 in /usr/local/lib/python3.11/dist-packages (from matplotlib) (4.58.5)\n",
            "Requirement already satisfied: kiwisolver>=1.3.1 in /usr/local/lib/python3.11/dist-packages (from matplotlib) (1.4.8)\n",
            "Requirement already satisfied: numpy>=1.23 in /usr/local/lib/python3.11/dist-packages (from matplotlib) (2.0.2)\n",
            "Requirement already satisfied: packaging>=20.0 in /usr/local/lib/python3.11/dist-packages (from matplotlib) (24.2)\n",
            "Requirement already satisfied: pillow>=8 in /usr/local/lib/python3.11/dist-packages (from matplotlib) (11.2.1)\n",
            "Requirement already satisfied: pyparsing>=2.3.1 in /usr/local/lib/python3.11/dist-packages (from matplotlib) (3.2.3)\n",
            "Requirement already satisfied: python-dateutil>=2.7 in /usr/local/lib/python3.11/dist-packages (from matplotlib) (2.9.0.post0)\n",
            "Requirement already satisfied: six>=1.5 in /usr/local/lib/python3.11/dist-packages (from python-dateutil>=2.7->matplotlib) (1.17.0)\n"
          ]
        }
      ],
      "source": [
        "!pip install matplotlib"
      ]
    },
    {
      "cell_type": "code",
      "execution_count": null,
      "id": "jxOh2YtplRh5",
      "metadata": {
        "id": "jxOh2YtplRh5"
      },
      "outputs": [],
      "source": [
        "import pennylane as qml\n",
        "from pennylane import numpy as np\n",
        "import matplotlib.pyplot as plt\n",
        "\n",
        "# 1. 데이터셋 (2차원, 라벨 0 or 1)\n",
        "X = np.array([[0.1, 0.2], [0.2, 0.1], [3.0, 3.1], [3.2, 3.3]])\n",
        "Y = np.array([0, 0, 1, 1])  # 클래스 라벨\n",
        "\n",
        "# 2. 디바이스 설정\n",
        "dev = qml.device(\"default.qubit\", wires=1)\n"
      ]
    },
    {
      "cell_type": "code",
      "execution_count": null,
      "id": "BiVspoBxlvC7",
      "metadata": {
        "id": "BiVspoBxlvC7"
      },
      "outputs": [],
      "source": [
        "# 3. 파라미터화된 회로 (특성 주입 + 분류 회로)\n",
        "@qml.qnode(dev)\n",
        "def circuit(x, weights):\n",
        "    # 특성 주입 (feature embedding)\n",
        "    qml.RX(x[0], wires=0)\n",
        "    qml.RY(x[1], wires=0)\n",
        "\n",
        "    # 파라미터화된 회로\n",
        "    qml.RX(weights[0], wires=0)\n",
        "    qml.RY(weights[1], wires=0)\n",
        "    qml.RZ(weights[2], wires=0)\n",
        "\n",
        "    # 측정 (Z 방향 기대값)\n",
        "    return qml.expval(qml.PauliZ(0))\n",
        "\n",
        "# 4. 모델 함수 (출력을 0~1로 변환)\n",
        "def model(x, weights):\n",
        "    raw_output = circuit(x, weights)\n",
        "    return (1 + raw_output) / 2  # Z측정값 (-1~1) → (0~1)\n",
        "\n",
        "# 5. 손실 함수 (Binary Cross Entropy)\n",
        "def cost(weights, X, Y):\n",
        "    loss = 0\n",
        "    for x, y in zip(X, Y):\n",
        "        y_pred = model(x, weights)\n",
        "        loss += - (y * np.log(y_pred + 1e-6) + (1 - y) * np.log(1 - y_pred + 1e-6))\n",
        "    return loss / len(Y)\n"
      ]
    },
    {
      "cell_type": "code",
      "execution_count": null,
      "id": "OrprpfKxlyqS",
      "metadata": {
        "id": "OrprpfKxlyqS"
      },
      "outputs": [],
      "source": [
        "# 6. 초기 가중치\n",
        "weights = np.random.randn(3, requires_grad=True)"
      ]
    },
    {
      "cell_type": "code",
      "execution_count": null,
      "id": "irTc1oBfl18p",
      "metadata": {
        "colab": {
          "base_uri": "https://localhost:8080/"
        },
        "id": "irTc1oBfl18p",
        "outputId": "6bf661f1-a62f-48a2-92e0-6f2b0a2b7c39"
      },
      "outputs": [
        {
          "output_type": "stream",
          "name": "stdout",
          "text": [
            "Step 0 - Cost: 0.7499\n",
            "Step 5 - Cost: 0.6616\n",
            "Step 10 - Cost: 0.6532\n",
            "Step 15 - Cost: 0.6470\n",
            "Step 20 - Cost: 0.6420\n",
            "Step 25 - Cost: 0.6381\n"
          ]
        }
      ],
      "source": [
        "# 7. 최적화 (Adam)\n",
        "opt = qml.GradientDescentOptimizer(stepsize=0.4)\n",
        "steps = 30\n",
        "\n",
        "for i in range(steps):\n",
        "    weights = opt.step(lambda w: cost(w, X, Y), weights)\n",
        "    if i % 5 == 0:\n",
        "        print(f\"Step {i} - Cost: {cost(weights, X, Y):.4f}\")"
      ]
    },
    {
      "cell_type": "code",
      "execution_count": null,
      "id": "KqJYoJNYl6qS",
      "metadata": {
        "colab": {
          "base_uri": "https://localhost:8080/"
        },
        "id": "KqJYoJNYl6qS",
        "outputId": "dcf0e186-2c91-45e2-cab2-b336ed49331e"
      },
      "outputs": [
        {
          "output_type": "stream",
          "name": "stdout",
          "text": [
            "\n",
            "🔍 테스트 결과:\n",
            "입력: [0.1 0.2] → 예측: 0.489, 실제: 0\n",
            "입력: [0.2 0.1] → 예측: 0.449, 실제: 0\n",
            "입력: [3.  3.1] → 예측: 0.490, 실제: 1\n",
            "입력: [3.2 3.3] → 예측: 0.570, 실제: 1\n"
          ]
        }
      ],
      "source": [
        "# 8. 테스트\n",
        "print(\"\\n🔍 테스트 결과:\")\n",
        "for x, y in zip(X, Y):\n",
        "    pred = model(x, weights)\n",
        "    print(f\"입력: {x} → 예측: {pred:.3f}, 실제: {y}\")"
      ]
    },
    {
      "cell_type": "code",
      "execution_count": null,
      "id": "adpFKL0AmM5Y",
      "metadata": {
        "colab": {
          "base_uri": "https://localhost:8080/",
          "height": 507
        },
        "id": "adpFKL0AmM5Y",
        "outputId": "c3718ba3-f25b-4f3e-9e7d-6ab9aa3e38ab"
      },
      "outputs": [
        {
          "output_type": "display_data",
          "data": {
            "text/plain": [
              "<Figure size 600x500 with 1 Axes>"
            ],
            "image/png": "[encoded data removed]"
          },
          "metadata": {}
        }
      ],
      "source": [
        "# 9. 시각화\n",
        "\n",
        "# 예측 결과 저장\n",
        "preds = [model(x, weights) for x in X]\n",
        "\n",
        "plt.figure(figsize=(6, 5))\n",
        "for i, (x, y_true, y_pred) in enumerate(zip(X, Y, preds)):\n",
        "    color = \"blue\" if y_true == 0 else \"red\"\n",
        "    plt.scatter(x[0], x[1], c=color, s=100, edgecolors='k', label=f\"Class {y_true}\" if i < 2 else \"\")\n",
        "    plt.text(x[0] + 0.05, x[1] + 0.05, f\"{y_pred:.2f}\", fontsize=9, color=\"black\")\n",
        "\n",
        "plt.title(\"Quantum Model Predictions\")\n",
        "plt.xlabel(\"Feature 1\")\n",
        "plt.ylabel(\"Feature 2\")\n",
        "plt.legend()\n",
        "plt.grid(True)\n",
        "plt.tight_layout()\n",
        "plt.show()"
      ]
    },
    {
      "cell_type": "markdown",
      "id": "GeMzzmN0pbRD",
      "metadata": {
        "id": "GeMzzmN0pbRD"
      },
      "source": [
        "##본다는 행위; 측정의 의미"
      ]
    },
    {
      "cell_type": "markdown",
      "id": "jFS8_1MtpiN0",
      "metadata": {
        "id": "jFS8_1MtpiN0"
      },
      "source": [
        "양자 회로에서 “본다”, 즉 **큐비트를 관측한다(measure)**는 행위는 양자 상태를 고전적인 비트값(0 또는 1)으로 변환하는 과정으로 이해할 수 있겠습니다. 코드를 기준으로 보면, **관측을 명시적으로 수행하는 연산자(measurement operator)**를 사용하면 됩니다."
      ]
    },
    {
      "cell_type": "markdown",
      "id": "qZ6CAfUspydf",
      "metadata": {
        "id": "qZ6CAfUspydf"
      },
      "source": [
        "### PennyLane에서의 측정 방식\n",
        "\n",
        "`확률(probabilities) 측정`: qml.probs(wires=[0]) # 각 상태(`\n",
        "\n",
        "`기대값(expectation value) 측정`: qml.expval(qml.PauliZ(0)) # Z 방향으로 평균값 (-1~1)\n",
        "\n",
        "`샘플링(measurement outcomes)`: qml.sample(wires=[0]). # 0 또는 1을 반환하는 실제 측정 결과\n",
        "\n",
        "\n"
      ]
    },
    {
      "cell_type": "markdown",
      "id": "44b2a8eb",
      "metadata": {
        "id": "44b2a8eb"
      },
      "source": [
        "### 측정하기\n",
        "\n",
        "- `qml.probs`: 개별 state들의 측정 확률 벡터입니다. $N$ qubit에 대해 $2^N$ 크기를 가집니다.\n",
        "- `qml.expval`: Pennylane의 Observable들을 측정합니다. 기초적으로 `qml.PauliZ(i), qml.PauliX(i), qml.PauliY(i)`가 있으며 이들을 조합 하거나/여러개의 Observable을 측정할 수 있습니다."
      ]
    },
    {
      "cell_type": "markdown",
      "id": "FrO-1NfSqUSE",
      "metadata": {
        "id": "FrO-1NfSqUSE"
      },
      "source": [
        "###예: Bell 상태에서 한 큐비트만 측정하기\n",
        "\n",
        "- shots=1로 설정하면 진짜 양자 측정처럼 단 한 번의 결과(0 or 1)가 나옵니다.\n",
        "\n",
        "- 0번 큐비트를 측정하면 1번 큐비트의 상태도 자동으로 결정됩니다."
      ]
    },
    {
      "cell_type": "code",
      "execution_count": null,
      "id": "WQs3zQAIpaZi",
      "metadata": {
        "colab": {
          "base_uri": "https://localhost:8080/"
        },
        "id": "WQs3zQAIpaZi",
        "outputId": "6b2689d3-88e2-4d21-efec-a4e95f00f89a"
      },
      "outputs": [
        {
          "output_type": "stream",
          "name": "stdout",
          "text": [
            "0번 큐비트 관측 결과: 1\n"
          ]
        }
      ],
      "source": [
        "import pennylane as qml\n",
        "from pennylane import numpy as np\n",
        "\n",
        "dev = qml.device(\"default.qubit\", wires=2, shots=1)  # shots=1로 실측 느낌 줌\n",
        "\n",
        "@qml.qnode(dev)\n",
        "def measure_one_qubit():\n",
        "    qml.Hadamard(wires=0)\n",
        "    qml.CNOT(wires=[0, 1])\n",
        "    return qml.sample(wires=0)  # 0번 큐비트만 측정\n",
        "\n",
        "result = measure_one_qubit()\n",
        "print(\"0번 큐비트 관측 결과:\", result)"
      ]
    },
    {
      "cell_type": "markdown",
      "id": "I4Tam4Z3qkBF",
      "metadata": {
        "id": "I4Tam4Z3qkBF"
      },
      "source": [
        "### 측정은 상태를 무너뜨린다 (Collapse)\n",
        "\n",
        "관측된 순간, 양자 중첩 상태는 사라지고 → **한 가지 고전 상태로 “붕괴(collapse)”**됩니다.\n",
        "\n",
        "- `큐비트를 본다`: qml.sample(wires=i)를 통해서 큐비트 i를 실제로 측정함.\n",
        "\n",
        "- `중첩이 사라진다`: 코드 상에서 sample() 사용 시 상태가 0 또는 1 중 하나로 정해짐.\n",
        "\n",
        "- `얽힌 상태 관측`: 코드상에서 두 큐비트를 동시에 sample() 하는 경우, 둘 사이의 상관관계 확인이 가능함.\n"
      ]
    },
    {
      "cell_type": "markdown",
      "id": "7eea7f64",
      "metadata": {
        "id": "7eea7f64"
      },
      "source": [
        "# 경진대회 참가"
      ]
    },
    {
      "cell_type": "markdown",
      "id": "9b4b934e-a214-4677-a2d3-9fd491a962ba",
      "metadata": {
        "id": "9b4b934e-a214-4677-a2d3-9fd491a962ba"
      },
      "source": [
        "## Fashion MINIST dataset"
      ]
    },
    {
      "cell_type": "markdown",
      "id": "kIsKbKmt3STD",
      "metadata": {
        "id": "kIsKbKmt3STD"
      },
      "source": [
        "Fashion MNIST는 **기존 MNIST(손글씨 숫자)**를 대체하기 위해 등장한 의류 이미지 데이터셋입니다.\n",
        "\n",
        "`데이터 수`: 학습 60,000장 / 테스트 10,000장\n",
        "\n",
        "`입력 형태`: 28×28 크기의 흑백 이미지 (총 784차원)\n",
        "\n",
        "`클래스 수`: 10개 (의류 종류)\n",
        "- 0: T-shirt/top\n",
        "- 1: Trouser\n",
        "- 2: Pullover\n",
        "- 3: Dress\n",
        "- 4: Coat\n",
        "- 5: Sandal\n",
        "- 6: Shirt\n",
        "- 7: Sneaker\n",
        "- 8: Bag\n",
        "- 9: Ankle boot"
      ]
    },
    {
      "cell_type": "markdown",
      "id": "Ek_LDtCS3_LQ",
      "metadata": {
        "id": "Ek_LDtCS3_LQ"
      },
      "source": [
        "## 문제의 단순화\n",
        "\n",
        "Mnist의 클래스는 위에서 설명한 것 처럼 10개의 클래스를 가지지만, 다중 클래스의 분류는 처음에 접근하기 쉽지 않기 때문에 먼저 **이진 분류(binary classification)**부터 시작하는 것이 좋습니다.\n",
        "\n",
        "예를들어, T-shirt (0) vs Shirt (6)만 선택해 문제를 단순화 하는 것입니다."
      ]
    },
    {
      "cell_type": "markdown",
      "id": "FO5oWXVJ67V5",
      "metadata": {
        "id": "FO5oWXVJ67V5"
      },
      "source": [
        "## 데이터셋 확인"
      ]
    },
    {
      "cell_type": "code",
      "execution_count": null,
      "id": "nLwXGWvlBvT3",
      "metadata": {
        "id": "nLwXGWvlBvT3"
      },
      "outputs": [],
      "source": [
        "# PyTorch의 메인 라이브러리(torch)를 불러옵니다.\n",
        "# 텐서 생성, 연산, 모델 구축 등에 사용됩니다.\n",
        "import torch\n",
        "\n",
        "# Subset 클래스는 데이터셋의 일부만 선택하여 사용할 수 있게 해줍니다.\n",
        "# 예: 전체 데이터셋 중 처음 100개 샘플만 사용하고 싶을 때 유용합니다.\n",
        "from torch.utils.data import Subset\n",
        "\n",
        "# DataLoader는 데이터셋을 배치 단위로 나누고, 셔플하거나 여러 스레드로 로딩할 수 있게 도와줍니다.\n",
        "# 모델 학습에 필요한 반복 가능한 데이터 배치를 제공합니다.\n",
        "from torch.utils.data import DataLoader\n",
        "\n",
        "# torchvision은 이미지 관련 데이터셋(Fashion MNIST 등), 전처리(transform), 사전학습 모델 등을 제공합니다.\n",
        "# 여기선 주로 datasets과 transforms를 사용할 수 있습니다.\n",
        "import torchvision"
      ]
    },
    {
      "cell_type": "markdown",
      "id": "6D-S_qVb5Nsf",
      "metadata": {
        "id": "6D-S_qVb5Nsf"
      },
      "source": [
        "이 코드는 FashionMNIST 데이터셋의 훈련용과 테스트용 데이터를 불러오고 전처리(transform)를 적용하는 부분입니다.\n",
        "\n",
        "주요 전처리는:\n",
        "- ToTensor: 이미지 → 텐서\n",
        "- Normalize: 픽셀값을 **[-1, 1]**로 정규화\n",
        "\n",
        "입니다."
      ]
    },
    {
      "cell_type": "code",
      "execution_count": null,
      "id": "cChul3HsBvNX",
      "metadata": {
        "id": "cChul3HsBvNX"
      },
      "outputs": [],
      "source": [
        "#  torchvision.transforms.Compose는 여러 개의 이미지 전처리(transform)를 순차적으로 적용할 수 있게 합니다.\n",
        "# # 여기서는 ToTensor()와 Normalize()를 차례대로 적용합니다.\n",
        "# transform = torchvision.transforms.Compose([\n",
        "\n",
        "#     # 이미지를 PIL → PyTorch 텐서로 변환합니다.\n",
        "#     # 결과는 [C, H, W] 형식의 float32 텐서로 바뀝니다. 값은 0~1 범위로 정규화됨.\n",
        "#     torchvision.transforms.ToTensor(),\n",
        "\n",
        "#     # 텐서 값을 정규화합니다. (mean=0.5, std=0.5)\n",
        "#     # 결과적으로 픽셀 값은 [-1, 1] 범위로 변환됩니다.\n",
        "#     torchvision.transforms.Normalize((0.5,), (0.5,))\n",
        "# ])\n",
        "\n",
        "# 학습 데이터의 다양성을 증가시켜 과적합 방지\n",
        "transform = torchvision.transforms.Compose([\n",
        "    torchvision.transforms.RandomHorizontalFlip(),\n",
        "    torchvision.transforms.RandomRotation(15),\n",
        "    torchvision.transforms.ToTensor(),\n",
        "    torchvision.transforms.Normalize((0.5,), (0.5,))\n",
        "])\n",
        "\n",
        "# 훈련용 데이터셋을 불러옵니다.\n",
        "# 루트 디렉토리 \"./\"에 저장하며, 없다면 자동으로 다운로드합니다.\n",
        "# 위에서 정의한 transform을 적용합니다.\n",
        "train_ds = torchvision.datasets.FashionMNIST(\n",
        "    \"./\",                # 데이터 저장 경로\n",
        "    train=True,          # 훈련용 데이터셋\n",
        "    download=True,       # 데이터가 없으면 다운로드\n",
        "    transform=transform  # transform 적용\n",
        ")\n",
        "\n",
        "# 테스트용 데이터셋을 불러옵니다.\n",
        "# 위와 동일하지만 train=False를 통해 테스트셋을 불러옵니다.\n",
        "test_ds = torchvision.datasets.FashionMNIST(\n",
        "    \"./\",                # 데이터 저장 경로\n",
        "    train=False,         # 테스트용 데이터셋\n",
        "    download=True,       # 데이터가 없으면 다운로드\n",
        "    transform=transform  # transform 적용\n",
        ")"
      ]
    },
    {
      "cell_type": "code",
      "execution_count": null,
      "id": "5dc12000-59b6-48f3-975f-eeb7322fc225",
      "metadata": {
        "id": "5dc12000-59b6-48f3-975f-eeb7322fc225"
      },
      "outputs": [],
      "source": [
        "# train_ds.targets는 각 샘플의 정답 클래스(0~9)들을 담고 있는 텐서입니다.\n",
        "# 여기서 label이 0번(T-shirt/top) 또는 6번(Shirt)인 데이터만 선택합니다.\n",
        "train_mask = (train_ds.targets == 0) | (train_ds.targets == 6)\n",
        "\n",
        "# 위에서 만든 마스크(train_mask)가 True인 위치의 인덱스를 가져옵니다.\n",
        "# 즉, label이 0 또는 6인 샘플의 인덱스만 추출합니다.\n",
        "train_idx = torch.where(train_mask)[0]\n",
        "\n",
        "# label이 6인 경우를 1로 변경합니다.\n",
        "# → 이진 분류를 위해 0 vs 1로 만듭니다.\n",
        "# 즉, T-shirt를 0, Shirt를 1로 분류하는 문제로 만듭니다.\n",
        "train_ds.targets[train_ds.targets == 6] = 1\n",
        "\n",
        "# 위에서 골라낸 인덱스(train_idx)를 사용해 훈련 데이터셋에서 0/1 클래스만 남깁니다.\n",
        "# Subset을 사용하면 원본 데이터셋(train_ds)의 일부를 선택할 수 있습니다.\n",
        "binary_train_ds = Subset(train_ds, train_idx)"
      ]
    },
    {
      "cell_type": "markdown",
      "id": "M9Qws9LP54EH",
      "metadata": {
        "id": "M9Qws9LP54EH"
      },
      "source": [
        "train_loader는 훈련 루프에서 for data, label in train_loader: 와 같이 사용됩니다.\n",
        "\n",
        "각 data는 1장의 이미지 텐서 ([1, 28, 28] 형태), 각 label은 0 또는 1의 정답 값입니다.\n",
        "\n",
        "이 구조는 **양자 회로(QNode)**에 입력하거나 차원 축소 후 RY 게이트 등에 주입하기에 적합합니다."
      ]
    },
    {
      "cell_type": "code",
      "execution_count": null,
      "id": "b3b19bcf-ff46-430e-80a9-7116e51cfe62",
      "metadata": {
        "id": "b3b19bcf-ff46-430e-80a9-7116e51cfe62"
      },
      "outputs": [],
      "source": [
        "# PyTorch의 DataLoader를 이용해 binary_train_ds에서 데이터를 하나씩 꺼내도록 설정합니다.\n",
        "train_loader = DataLoader(\n",
        "    binary_train_ds,   # 이진 분류용으로 추출한 Subset (0 vs 1 클래스만 존재)\n",
        "    batch_size=1,      # 배치 크기를 1로 설정 → 한 번에 한 이미지씩 학습\n",
        "    shuffle=True       # 데이터를 섞어서 무작위 순서로 불러오도록 설정 (훈련 성능 향상)\n",
        ")"
      ]
    },
    {
      "cell_type": "code",
      "execution_count": null,
      "id": "e4d00477-0ab9-40f5-8671-f8d61cbdf278",
      "metadata": {
        "colab": {
          "base_uri": "https://localhost:8080/",
          "height": 447
        },
        "id": "e4d00477-0ab9-40f5-8671-f8d61cbdf278",
        "outputId": "5527b37f-5862-462c-8810-67ba884340a1"
      },
      "outputs": [
        {
          "output_type": "execute_result",
          "data": {
            "text/plain": [
              "<matplotlib.image.AxesImage at 0x7b7946f8c810>"
            ]
          },
          "metadata": {},
          "execution_count": 20
        },
        {
          "output_type": "display_data",
          "data": {
            "text/plain": [
              "<Figure size 640x480 with 1 Axes>"
            ],
            "image/png": "[encoded data removed]"
          },
          "metadata": {}
        }
      ],
      "source": [
        "# matplotlib의 pyplot 모듈을 불러옵니다. 시각화를 위한 기본 도구입니다.\n",
        "from matplotlib import pyplot as plt\n",
        "\n",
        "# binary_train_ds[20]은 21번째 샘플을 의미하며, (image_tensor, label)의 튜플입니다.\n",
        "# binary_train_ds[20][0] → 이미지 텐서\n",
        "# binary_train_ds[20][0][0] → 텐서에서 채널 차원(1개) 제거 → [28, 28] 크기의 2D 이미지\n",
        "plt.imshow(binary_train_ds[20][0][0], cmap=\"grey\")  # 흑백으로 이미지 출력"
      ]
    },
    {
      "cell_type": "markdown",
      "id": "jImUsHVn6mSp",
      "metadata": {
        "id": "jImUsHVn6mSp"
      },
      "source": [
        "PyTorch의 train_loader에서 이진 분류용 이미지를 꺼내어 한 줄에 여러 장의 이미지와 해당 라벨을 시각화해보겠습니다."
      ]
    },
    {
      "cell_type": "code",
      "execution_count": null,
      "id": "44f5cdad-5333-4da7-ab20-822b83233328",
      "metadata": {
        "colab": {
          "base_uri": "https://localhost:8080/",
          "height": 135
        },
        "id": "44f5cdad-5333-4da7-ab20-822b83233328",
        "outputId": "ff1e065c-afe2-4f07-8874-f40fceb6f3fe"
      },
      "outputs": [
        {
          "output_type": "display_data",
          "data": {
            "text/plain": [
              "<Figure size 1000x300 with 8 Axes>"
            ],
            "image/png": "[encoded data removed]"
          },
          "metadata": {}
        }
      ],
      "source": [
        "# 한 번에 보여줄 샘플 수 설정\n",
        "n_samples_show = 8\n",
        "\n",
        "# train_loader에서 반복자(iterator) 생성\n",
        "data_iter = iter(train_loader)\n",
        "\n",
        "# 1행 n_samples_show열짜리 서브플롯 생성, 크기는 가로 10인치, 세로 3인치\n",
        "fig, axes = plt.subplots(nrows=1, ncols=n_samples_show, figsize=(10, 3))\n",
        "\n",
        "# 서브플롯에 이미지를 하나씩 그려나감\n",
        "while n_samples_show > 0:\n",
        "    # 다음 배치에서 이미지와 라벨 하나를 가져옴 (batch_size=1이므로 1개씩 나옴)\n",
        "    images, targets = next(data_iter)\n",
        "\n",
        "    # 이미지 출력 (28x28), 채널 제거 후 NumPy로 변환\n",
        "    axes[n_samples_show - 1].imshow(images[0, 0].numpy().squeeze(), cmap=\"gray\")\n",
        "\n",
        "    # 축 눈금 제거\n",
        "    axes[n_samples_show - 1].set_xticks([])\n",
        "    axes[n_samples_show - 1].set_yticks([])\n",
        "\n",
        "    # 이미지 위에 라벨 텍스트 표시 (0 또는 1)\n",
        "    axes[n_samples_show - 1].set_title(f\"Labeled: {targets[0].item()}\")\n",
        "\n",
        "    # 카운트 감소\n",
        "    n_samples_show -= 1\n",
        "\n",
        "# 전체 레이아웃 자동 정렬\n",
        "plt.tight_layout()\n",
        "plt.show()"
      ]
    },
    {
      "cell_type": "markdown",
      "id": "wdW7dGaz7YSt",
      "metadata": {
        "id": "wdW7dGaz7YSt"
      },
      "source": [
        "## 신경망 모델의 구성\n",
        "\n",
        "이 구성 요소를 사용해서 CNN → 양자 회로 연결용 하이브리드 모델도 구성할 수 있습니다."
      ]
    },
    {
      "cell_type": "code",
      "execution_count": null,
      "id": "748d8ce6-b263-404d-ba6b-4515e374f982",
      "metadata": {
        "id": "748d8ce6-b263-404d-ba6b-4515e374f982"
      },
      "outputs": [],
      "source": [
        "# 모든 사용자 정의 신경망의 기본 클래스인 nn.Module을 불러옵니다.\n",
        "# 사용자 정의 모델을 만들 때 반드시 이 클래스를 상속해야 합니다.\n",
        "from torch.nn import Module\n",
        "# PyTorch에서 제공하는 다양한 활성화 함수와 연산 함수(F.relu, F.softmax 등)를 포함한 모듈입니다.\n",
        "# 모델 내 forward 함수에서 자주 사용됩니다.\n",
        "import torch.nn.functional as F\n",
        "# 2차원 합성곱 계층(Conv2D)을 불러옵니다.\n",
        "# 주로 이미지 데이터를 처리하는 CNN에서 사용되며, 특징 맵(feature map)을 추출하는 데 쓰입니다.\n",
        "from torch.nn import Conv2d, Dropout2d, Linear\n",
        "# 여러 텐서를 차원 기준으로 이어붙일 수 있게 해주는 함수입니다.\n",
        "# 예: cat((x1, x2), dim=1) → 두 텐서를 열 방향으로 연결\n",
        "from torch import cat"
      ]
    },
    {
      "cell_type": "markdown",
      "id": "sCgu7l2F7v2x",
      "metadata": {
        "id": "sCgu7l2F7v2x"
      },
      "source": [
        "이 모델은 CNN을 사용한 특징 추출기 위에 **양자 회로(QNN)**를 얹어서 하이브리드 이진 분류기를 구성하는 구조입니다.\n",
        "\n",
        "`CNN`: 이미지 특징 추출 (Conv + Pool + FC)\n",
        "\n",
        "`QNN`: 2D 출력값을 인코딩한 양자 회로 (얽힘 + RY 회전)\n",
        "\n",
        "`결합 방식`: CNN → 2D 벡터 → QNN → scalar → FC → log softmax\n",
        "\n",
        "`출력`: log(확률) 2차원 (클래스 0 / 클래스 1)\n"
      ]
    },
    {
      "cell_type": "code",
      "execution_count": null,
      "id": "30984ac6-e693-474b-bb01-aadaede99149",
      "metadata": {
        "id": "30984ac6-e693-474b-bb01-aadaede99149"
      },
      "outputs": [],
      "source": [
        "# 기본 tensor의 dtype을 float64로 설정 (PennyLane은 float64 사용을 권장)\n",
        "torch.set_default_dtype(torch.float64)\n",
        "\n",
        "class BinaryClassifier(Module):\n",
        "    def __init__(self):\n",
        "        # PyTorch의 Module을 상속하여 사용자 정의 모델을 생성\n",
        "        super().__init__()\n",
        "\n",
        "        # 여기서 fc1 입력 크기(256)는 MaxPool2d 적용 후\n",
        "        # 이미지 크기를 고려해서 조정해야 할 수 있음 (ex. 28x28 → 12x12 → flatten)\n",
        "        self.conv1 = Conv2d(1, 2, kernel_size=5)     # 입력 채널 1 → 2채널, 커널 크기 5\n",
        "        self.conv2 = Conv2d(2, 16, kernel_size=5)    # 2채널 → 16채널, 커널 크기 5\n",
        "        self.dropout = Dropout2d()                   # 과적합 방지용 드롭아웃\n",
        "        self.fc1 = Linear(256, 64)                   # 평탄화된 feature → 64차원\n",
        "        self.fc2 = Linear(64, 2)                     # 64 → 2차원 (양자 회로 입력으로 축소)\n",
        "        self.fc3 = Linear(1, 1)                      # QNN 출력값 후처리 (1 → 1)\n",
        "\n",
        "        # Quantum layer\n",
        "        self.q_device = qml.device(\"default.qubit\", wires=2)  # 2 큐비트 시뮬레이터 사용\n",
        "        self.qnn_params = Parameter(torch.rand(8), requires_grad=True)  # 학습 가능한 양자 파라미터\n",
        "        self.obs = qml.PauliZ(0) @ qml.PauliZ(1)  # 두 큐비트의 Z-Z 관측 연산자\n",
        "\n",
        "        #@qml.qnode(self.q_device)\n",
        "        @qml.qnode(self.q_device, interface=\"torch\")\n",
        "        def circuit(x):\n",
        "            # 입력 x의 두 값(2차원)으로 큐비트 상태를 인코딩하고 얽힘을 생성\n",
        "            qml.H(wires=0)\n",
        "            qml.H(wires=1)\n",
        "\n",
        "            qml.RZ(2.*x[0], wires=0)\n",
        "            qml.RZ(2.*x[1], wires=0)\n",
        "\n",
        "            qml.CNOT(wires=[0, 1])\n",
        "            qml.RZ(2.*(torch.pi - x[0])*(torch.pi - x[1]), wires=1)\n",
        "            qml.CNOT(wires=[0, 1])\n",
        "\n",
        "            # 파라미터화된 회로 (8개 가중치)\n",
        "            # 총 8개의 RY 회전으로 구성된 파라미터화된 회로 (VQC 스타일)\n",
        "\t          # 얽힘 연산자(CNOT)를 사이사이에 배치\n",
        "            qml.RY(2.*self.qnn_params[0], wires=0)\n",
        "            qml.RY(2.*self.qnn_params[1], wires=1)\n",
        "            qml.CNOT(wires=[0, 1])\n",
        "            qml.RY(2.*self.qnn_params[2], wires=0)\n",
        "            qml.RY(2.*self.qnn_params[3], wires=1)\n",
        "            qml.CNOT(wires=[1, 0])\n",
        "            qml.RY(2.*self.qnn_params[4], wires=0)\n",
        "            qml.RY(2.*self.qnn_params[5], wires=1)\n",
        "            qml.CNOT(wires=[0, 1])\n",
        "            qml.RY(2.*self.qnn_params[6], wires=0)\n",
        "            qml.RY(2.*self.qnn_params[7], wires=1)\n",
        "\n",
        "            # Z⊗Z에 대한 기댓값을 출력 (값의 범위: -1 ~ 1)\n",
        "            return qml.expval(self.obs)\n",
        "\n",
        "        self.qnn = circuit  # forward에서 사용할 수 있도록 저장\n",
        "\n",
        "    def forward(self, x):\n",
        "        x = F.relu(self.conv1(x))        # conv1 + ReLU\n",
        "        x = F.max_pool2d(x, 2)           # 2x2 max pooling\n",
        "        x = F.relu(self.conv2(x))        # conv2 + ReLU\n",
        "        x = F.max_pool2d(x, 2)           # 2x2 max pooling\n",
        "        x = self.dropout(x)              # Dropout\n",
        "\n",
        "        # x = x.view(-1)                   # flatten (1D 벡터로 펼치기)\n",
        "        x = x.view(x.size(0), -1)        # (batch_size, feature_dim) 형태 유지\n",
        "\n",
        "        x = F.relu(self.fc1(x))          # FC1 + ReLU\n",
        "        x = torch.tanh(self.fc2(x)) * torch.pi  # shape: (batch_size, 2)\n",
        "\n",
        "        # 양자 회로 입력 준비 (2차원 벡터 보장)\n",
        "        x_input = x.view(-1)[:2]\n",
        "        x = self.qnn(x_input).view(1,)  # 스칼라로 정리\n",
        "\n",
        "        x = self.fc3(x)\n",
        "        return torch.log_softmax(torch.cat([x, 1 - x], dim=-1), dim=-1)"
      ]
    },
    {
      "cell_type": "markdown",
      "id": "MmHUdC9WAoGO",
      "metadata": {
        "id": "MmHUdC9WAoGO"
      },
      "source": []
    },
    {
      "cell_type": "markdown",
      "id": "n5lirsPaAoYl",
      "metadata": {
        "id": "n5lirsPaAoYl"
      },
      "source": [
        "PyTorch에서 학습 가능한 파라미터(Parameter) 클래스를 불러옵니다.\n",
        "일반적으로 nn.Linear 등은 내부적으로 자동으로 Parameter를 사용하지만,\n",
        "사용자가 직접 선언하고 학습시키고자 할 때 Parameter를 명시적으로 선언합니다.\n",
        "\n",
        "이 코드에서는 **양자 회로 내에서 사용할 qnn_params**를 학습 가능하게 만들기 위해 사용합니다."
      ]
    },
    {
      "cell_type": "code",
      "execution_count": null,
      "id": "PtaV-OzoAnrL",
      "metadata": {
        "id": "PtaV-OzoAnrL"
      },
      "outputs": [],
      "source": [
        "from torch.nn.parameter import Parameter"
      ]
    },
    {
      "cell_type": "markdown",
      "id": "gnNaTxCMA6Lt",
      "metadata": {
        "id": "gnNaTxCMA6Lt"
      },
      "source": [
        "이후, 학습·추론에 사용할 장치(device) 객체를 만듭니다.\n",
        "\n",
        "torch.cuda.is_available() → 현재 머신에 CUDA-GPU가 설치·활성화되어 있으면 True 를 반환.\n",
        "- ✅ True  → \"cuda\" (예: 'cuda:0')\n",
        "- ❌ False → \"cpu\"\n",
        "\n",
        "이렇게 하면 코드가 GPU 환경이든 CPU 환경이든 자동으로 호환됩니다."
      ]
    },
    {
      "cell_type": "code",
      "execution_count": null,
      "id": "53wkw5dxBGiM",
      "metadata": {
        "id": "53wkw5dxBGiM"
      },
      "outputs": [],
      "source": [
        "device = torch.device(\"cuda\" if torch.cuda.is_available() else \"cpu\")"
      ]
    },
    {
      "cell_type": "code",
      "execution_count": null,
      "id": "962f6cdd-2cb5-4ac0-90c3-d346c35dcf54",
      "metadata": {
        "colab": {
          "base_uri": "https://localhost:8080/"
        },
        "id": "962f6cdd-2cb5-4ac0-90c3-d346c35dcf54",
        "outputId": "9f52afd2-a1f4-4910-a7ec-79b4fa5b5c41"
      },
      "outputs": [
        {
          "output_type": "execute_result",
          "data": {
            "text/plain": [
              "BinaryClassifier(\n",
              "  (conv1): Conv2d(1, 2, kernel_size=(5, 5), stride=(1, 1))\n",
              "  (conv2): Conv2d(2, 16, kernel_size=(5, 5), stride=(1, 1))\n",
              "  (dropout): Dropout2d(p=0.5, inplace=False)\n",
              "  (fc1): Linear(in_features=256, out_features=64, bias=True)\n",
              "  (fc2): Linear(in_features=64, out_features=2, bias=True)\n",
              "  (fc3): Linear(in_features=1, out_features=1, bias=True)\n",
              ")"
            ]
          },
          "metadata": {},
          "execution_count": 26
        }
      ],
      "source": [
        "# 앞서 정의한 하이브리드 CNN + QNN 모델 인스턴스를 생성합니다.\n",
        "# 내부에서 Conv2d, FC 레이어, 그리고 PennyLane QNode(양자회로)까지 모두 초기화됩니다.\n",
        "bc = BinaryClassifier()\n",
        "\n",
        "# 모델의 모든 학습 가능한 파라미터(가중치·버퍼)를 지정된 장치로 이동합니다.\n",
        "bc.to(device)"
      ]
    },
    {
      "cell_type": "code",
      "execution_count": null,
      "id": "K9GyWVZjyM8c",
      "metadata": {
        "id": "K9GyWVZjyM8c"
      },
      "outputs": [],
      "source": [
        "# ───── 학습 전에 회로 제약 먼저 점검 ─────\n",
        "import pennylane as qml, torch\n",
        "\n",
        "# 양자 회로의 입력용 더미 입력 벡터를 생성합니다.\n",
        "# 길이가 2인 벡터이며, QNN 회로가 2차원 벡터를 입력으로 받는지 테스트하기 위함입니다.\n",
        "# float64 타입으로 명시한 이유는: PennyLane의 내부 회로 및 Autograd 호환성 때문입니다.\n",
        "dummy_x = torch.tensor([0.0, 0.0], dtype=torch.float64)\n",
        "# qml.specs()는 PennyLane 회로의 리소스 분석기(resource estimator)입니다.\n",
        "# bc.qnn는 사용자 정의 모델(BinaryClassifier)의 QNode (양자 회로)입니다.\n",
        "# specs(...)는 해당 입력(dummy_x)을 바탕으로, 게이트 수, 얽힘 수, 회전 게이트 수,\n",
        "# 깊이(depth), 측정 수, 입력 파라미터 수, 출력 수 등을 분석해 줍니다.\n",
        "specs = qml.specs(bc.qnn)(dummy_x)"
      ]
    },
    {
      "cell_type": "code",
      "execution_count": null,
      "id": "Cd5gteG9LLIw",
      "metadata": {
        "colab": {
          "base_uri": "https://localhost:8080/"
        },
        "id": "Cd5gteG9LLIw",
        "outputId": "51d8befe-a9c4-42dd-a4b6-0964f114b051"
      },
      "outputs": [
        {
          "output_type": "execute_result",
          "data": {
            "text/plain": [
              "{'resources': Resources(num_wires=2, num_gates=18, gate_types=defaultdict(<class 'int'>, {'Hadamard': 2, 'RZ': 3, 'CNOT': 5, 'RY': 8}), gate_sizes=defaultdict(<class 'int'>, {1: 13, 2: 5}), depth=13, shots=Shots(total_shots=None, shot_vector=())),\n",
              " 'errors': {},\n",
              " 'num_observables': 1,\n",
              " 'num_trainable_params': 8,\n",
              " 'num_device_wires': 2,\n",
              " 'num_tape_wires': 2,\n",
              " 'device_name': 'default.qubit',\n",
              " 'level': 'gradient',\n",
              " 'gradient_options': {},\n",
              " 'interface': 'torch',\n",
              " 'diff_method': 'best',\n",
              " 'gradient_fn': 'backprop'}"
            ]
          },
          "metadata": {},
          "execution_count": 28
        }
      ],
      "source": [
        "specs"
      ]
    },
    {
      "cell_type": "code",
      "execution_count": null,
      "id": "9P00jyeDLKFo",
      "metadata": {
        "colab": {
          "base_uri": "https://localhost:8080/"
        },
        "id": "9P00jyeDLKFo",
        "outputId": "855e65bd-cf52-4c8b-e1b5-ee9561522ddc"
      },
      "outputs": [
        {
          "output_type": "stream",
          "name": "stdout",
          "text": [
            "✅ 회로 제약 통과 — 학습을 계속합니다\n"
          ]
        }
      ],
      "source": [
        "assert specs[\"num_tape_wires\"] <= 8,  \"❌ 큐빗 수 초과\"\n",
        "assert specs['resources'].depth <= 30, \"❌ 회로 깊이 초과\"\n",
        "assert specs[\"num_trainable_params\"]<= 60, \"❌ 학습 파라미터 수 초과\"\n",
        "\n",
        "print(\"✅ 회로 제약 통과 — 학습을 계속합니다\")"
      ]
    },
    {
      "cell_type": "code",
      "execution_count": null,
      "id": "732e3ac0-4af7-48fc-9344-0a0569aa45c7",
      "metadata": {
        "colab": {
          "base_uri": "https://localhost:8080/"
        },
        "id": "732e3ac0-4af7-48fc-9344-0a0569aa45c7",
        "outputId": "65bf94c8-c859-4cd2-8cc9-22ce8f2c14ec"
      },
      "outputs": [
        {
          "output_type": "execute_result",
          "data": {
            "text/plain": [
              "12000"
            ]
          },
          "metadata": {},
          "execution_count": 30
        }
      ],
      "source": [
        "len(train_loader) # 전체 배치 수 = 전체 데이터 수 ÷ 배치 크기를 의미합니다."
      ]
    },
    {
      "cell_type": "markdown",
      "id": "KNXHkgRFB-e6",
      "metadata": {
        "id": "KNXHkgRFB-e6"
      },
      "source": [
        "PyTorch DataLoader에서 한 개의 배치를 꺼냄"
      ]
    },
    {
      "cell_type": "code",
      "execution_count": null,
      "id": "63c3b336-ebfa-4db1-8796-0b1fec590b69",
      "metadata": {
        "colab": {
          "base_uri": "https://localhost:8080/"
        },
        "id": "63c3b336-ebfa-4db1-8796-0b1fec590b69",
        "outputId": "74776384-888e-4f35-e378-f4b896053da3"
      },
      "outputs": [
        {
          "output_type": "stream",
          "name": "stdout",
          "text": [
            "torch.Size([1, 1, 28, 28])\n",
            "tensor([0])\n"
          ]
        }
      ],
      "source": [
        "data, target = next(iter(train_loader))\n",
        "\n",
        "print(data.shape)     # torch.Size([1, 1, 28, 28])\n",
        "print(target)         # tensor([0]) 또는 tensor([1])"
      ]
    },
    {
      "cell_type": "markdown",
      "id": "mczwf8nKCQNq",
      "metadata": {
        "id": "mczwf8nKCQNq"
      },
      "source": [
        "시각화"
      ]
    },
    {
      "cell_type": "code",
      "execution_count": null,
      "id": "1wjozmoSCKih",
      "metadata": {
        "colab": {
          "base_uri": "https://localhost:8080/",
          "height": 428
        },
        "id": "1wjozmoSCKih",
        "outputId": "a12ee4ad-1485-4a1b-befc-fe7b794dff3c"
      },
      "outputs": [
        {
          "output_type": "display_data",
          "data": {
            "text/plain": [
              "<Figure size 640x480 with 1 Axes>"
            ],
            "image/png": "[encoded data removed]"
          },
          "metadata": {}
        }
      ],
      "source": [
        "import matplotlib.pyplot as plt\n",
        "plt.imshow(data[0][0].cpu().numpy(), cmap=\"gray\")\n",
        "plt.title(f\"Label: {target.item()}\")\n",
        "plt.axis(\"off\")\n",
        "plt.show()"
      ]
    },
    {
      "cell_type": "markdown",
      "id": "pAO5x8NaCfx8",
      "metadata": {
        "id": "pAO5x8NaCfx8"
      },
      "source": [
        "Adam 옵티마이저를 사용해 bc 모델의 파라미터를 학습시킵니다.\n",
        "- bc.parameters()는 모델 내 학습 가능한 모든 파라미터(Conv, Linear, QNN 등 포함)를 반환합니다.\n",
        "- lr=0.0001은 학습률(learning rate)로, 작은 값을 쓸수록 학습이 느리지만 안정적입니다.\n",
        "- 양자 회로와 하이브리드 모델에서는 보통 lr=0.001보다 작게 설정하는 것이 좋습니다.\n",
        "\n",
        "NLLLoss (Negative Log-Likelihood Loss) 함수는 log_softmax 출력값과 함께 쓰는 손실 함수입니다.\n",
        "- 이진 분류지만, 출력이 log_softmax 형태의 두 클래스 확률 벡터일 경우 적절하게 작동합니다.\n",
        "(출력이 [log(p0), log(p1)]일 때, 라벨은 0 또는 1 → OK)"
      ]
    },
    {
      "cell_type": "code",
      "execution_count": null,
      "id": "7bd41aef-c008-424e-a65c-62d7b2042f2d",
      "metadata": {
        "colab": {
          "base_uri": "https://localhost:8080/"
        },
        "id": "7bd41aef-c008-424e-a65c-62d7b2042f2d",
        "outputId": "5e2a6e15-9d21-4aba-c208-df6654c8f1b5"
      },
      "outputs": [
        {
          "output_type": "execute_result",
          "data": {
            "text/plain": [
              "BinaryClassifier(\n",
              "  (conv1): Conv2d(1, 2, kernel_size=(5, 5), stride=(1, 1))\n",
              "  (conv2): Conv2d(2, 16, kernel_size=(5, 5), stride=(1, 1))\n",
              "  (dropout): Dropout2d(p=0.5, inplace=False)\n",
              "  (fc1): Linear(in_features=256, out_features=64, bias=True)\n",
              "  (fc2): Linear(in_features=64, out_features=2, bias=True)\n",
              "  (fc3): Linear(in_features=1, out_features=1, bias=True)\n",
              ")"
            ]
          },
          "metadata": {},
          "execution_count": 33
        }
      ],
      "source": [
        "# PyTorch에서 제공하는 Adam 옵티마이저를 임포트합니다.\n",
        "# Adam은 SGD(확률적 경사 하강법)의 변형으로, 학습 속도가 빠르고 안정적입니다.\n",
        "# 학습률(lr), 베타 계수 등 다양한 하이퍼파라미터를 조절할 수 있습니다.\n",
        "# 하이브리드 모델(CNN + QNN) 학습에도 매우 잘 작동합니다.\n",
        "from torch.optim import Adam\n",
        "\n",
        "# NLLLoss = Negative Log-Likelihood Loss (음의 로그 우도 손실)\n",
        "# log_softmax를 출력으로 사용하는 모델에 적합한 손실 함수입니다.\n",
        "# 예를 들어, 모델이 [log(p0), log(p1)] 형태의 로그 확률을 출력할 때 사용합니다.\n",
        "# 라벨(target)은 정수 클래스 인덱스(예: 0, 1)로 전달되어야 합니다.\n",
        "from torch.nn import NLLLoss\n",
        "\n",
        "optimizer = Adam(bc.parameters(), lr=0.0001)\n",
        "loss_func  = NLLLoss()\n",
        "\n",
        "# 학습을 몇 번 반복할지 설정합니다.\n",
        "# 실제 사용에선 5~50 epochs 정도 사용하면 더 안정적인 학습이 됩니다.\n",
        "epochs = 20\n",
        "loss_history = []\n",
        "\n",
        "# PyTorch 모델을 **“훈련 모드(train mode)”**로 전환합니다.\n",
        "# Dropout, BatchNorm 등 레이어들이 학습용 동작을 하게 됩니다.\n",
        "bc.train()"
      ]
    },
    {
      "cell_type": "code",
      "execution_count": null,
      "id": "ee582e81-3ca8-4b17-8a64-c528c0a6eadb",
      "metadata": {
        "colab": {
          "base_uri": "https://localhost:8080/"
        },
        "id": "ee582e81-3ca8-4b17-8a64-c528c0a6eadb",
        "outputId": "e7aef102-b970-4042-cb10-50319265fabf"
      },
      "outputs": [
        {
          "output_type": "execute_result",
          "data": {
            "text/plain": [
              "torch.Size([1, 1, 28, 28])"
            ]
          },
          "metadata": {},
          "execution_count": 34
        }
      ],
      "source": [
        "data.shape"
      ]
    },
    {
      "cell_type": "code",
      "execution_count": null,
      "id": "5a00a12f-e4ca-4152-837b-f352d57cdd30",
      "metadata": {
        "colab": {
          "base_uri": "https://localhost:8080/"
        },
        "id": "5a00a12f-e4ca-4152-837b-f352d57cdd30",
        "outputId": "debe6301-7894-4aa6-c080-499ba2c47fed"
      },
      "outputs": [
        {
          "output_type": "stream",
          "name": "stderr",
          "text": []
        },
        {
          "output_type": "stream",
          "name": "stdout",
          "text": [
            "Training [5%] Average Loss: 0.7329\n"
          ]
        },
        {
          "output_type": "stream",
          "name": "stderr",
          "text": []
        },
        {
          "output_type": "stream",
          "name": "stdout",
          "text": [
            "Training [10%] Average Loss: 0.4855\n"
          ]
        },
        {
          "output_type": "stream",
          "name": "stderr",
          "text": []
        },
        {
          "output_type": "stream",
          "name": "stdout",
          "text": [
            "Training [15%] Average Loss: 0.4572\n"
          ]
        },
        {
          "output_type": "stream",
          "name": "stderr",
          "text": []
        },
        {
          "output_type": "stream",
          "name": "stdout",
          "text": [
            "Training [20%] Average Loss: 0.4392\n"
          ]
        },
        {
          "output_type": "stream",
          "name": "stderr",
          "text": []
        },
        {
          "output_type": "stream",
          "name": "stdout",
          "text": [
            "Training [25%] Average Loss: 0.4272\n"
          ]
        },
        {
          "output_type": "stream",
          "name": "stderr",
          "text": []
        },
        {
          "output_type": "stream",
          "name": "stdout",
          "text": [
            "Training [30%] Average Loss: 0.4182\n"
          ]
        },
        {
          "output_type": "stream",
          "name": "stderr",
          "text": []
        },
        {
          "output_type": "stream",
          "name": "stdout",
          "text": [
            "Training [35%] Average Loss: 0.4089\n"
          ]
        },
        {
          "output_type": "stream",
          "name": "stderr",
          "text": []
        },
        {
          "output_type": "stream",
          "name": "stdout",
          "text": [
            "Training [40%] Average Loss: 0.4060\n"
          ]
        },
        {
          "output_type": "stream",
          "name": "stderr",
          "text": []
        },
        {
          "output_type": "stream",
          "name": "stdout",
          "text": [
            "Training [45%] Average Loss: 0.4004\n"
          ]
        },
        {
          "output_type": "stream",
          "name": "stderr",
          "text": []
        },
        {
          "output_type": "stream",
          "name": "stdout",
          "text": [
            "Training [50%] Average Loss: 0.3913\n"
          ]
        },
        {
          "output_type": "stream",
          "name": "stderr",
          "text": []
        },
        {
          "output_type": "stream",
          "name": "stdout",
          "text": [
            "Training [55%] Average Loss: 0.3867\n"
          ]
        },
        {
          "output_type": "stream",
          "name": "stderr",
          "text": []
        },
        {
          "output_type": "stream",
          "name": "stdout",
          "text": [
            "Training [60%] Average Loss: 0.3741\n"
          ]
        },
        {
          "output_type": "stream",
          "name": "stderr",
          "text": []
        },
        {
          "output_type": "stream",
          "name": "stdout",
          "text": [
            "Training [65%] Average Loss: 0.3756\n"
          ]
        },
        {
          "output_type": "stream",
          "name": "stderr",
          "text": []
        },
        {
          "output_type": "stream",
          "name": "stdout",
          "text": [
            "Training [70%] Average Loss: 0.3711\n"
          ]
        },
        {
          "output_type": "stream",
          "name": "stderr",
          "text": []
        },
        {
          "output_type": "stream",
          "name": "stdout",
          "text": [
            "Training [75%] Average Loss: 0.3672\n"
          ]
        },
        {
          "output_type": "stream",
          "name": "stderr",
          "text": []
        },
        {
          "output_type": "stream",
          "name": "stdout",
          "text": [
            "Training [80%] Average Loss: 0.3618\n"
          ]
        },
        {
          "output_type": "stream",
          "name": "stderr",
          "text": []
        },
        {
          "output_type": "stream",
          "name": "stdout",
          "text": [
            "Training [85%] Average Loss: 0.3636\n"
          ]
        },
        {
          "output_type": "stream",
          "name": "stderr",
          "text": []
        },
        {
          "output_type": "stream",
          "name": "stdout",
          "text": [
            "Training [90%] Average Loss: 0.3551\n"
          ]
        },
        {
          "output_type": "stream",
          "name": "stderr",
          "text": []
        },
        {
          "output_type": "stream",
          "name": "stdout",
          "text": [
            "Training [95%] Average Loss: 0.3561\n"
          ]
        },
        {
          "output_type": "stream",
          "name": "stderr",
          "text": [
            "Epoch 20/20:  20%|█▉        | 2351/12000 [00:47<03:01, 53.06it/s, batch=2300, loss=0.1904]"
          ]
        }
      ],
      "source": [
        "from tqdm import tqdm\n",
        "\n",
        "# 학습 루프\n",
        "for epoch in range(epochs):\n",
        "    # tqdm으로 에폭의 진행 상황을 상태바로 표시\n",
        "    epoch_bar = tqdm(range(len(train_loader)),\n",
        "                     desc=f\"Epoch {epoch+1}/{epochs}\",\n",
        "                     leave=False)  # leave=False면 다음 에폭에 덮어쓰기\n",
        "\n",
        "    total_loss = []\n",
        "\n",
        "    # zip을 사용하여 tqdm 바와 train_loader 데이터를 동시에 반복\n",
        "    for bidx, (data, target) in zip(epoch_bar, train_loader):\n",
        "\n",
        "        # # GPU 사용 시 데이터도 device로 이동\n",
        "        # data, target = data.to(device), target.to(device)\n",
        "\n",
        "        # 옵티마이저 초기화 (기울기 초기화)\n",
        "        optimizer.zero_grad(set_to_none=True)\n",
        "\n",
        "        # 모델 추론\n",
        "        output = bc(data)\n",
        "\n",
        "        # 손실 함수 계산 (target은 [1] → 1 형태로 만들기 위해 squeeze())\n",
        "        loss = loss_func(output, target.squeeze())\n",
        "\n",
        "        # 손실 값 기록 (그래프용)\n",
        "        total_loss.append(loss.item())\n",
        "\n",
        "        # 역전파 (기울기 계산)\n",
        "        loss.backward()\n",
        "\n",
        "        # 파라미터 업데이트\n",
        "        optimizer.step()\n",
        "\n",
        "        # 일정 간격마다 현재 배치와 손실을 tqdm에 표시\n",
        "        if bidx % 100 == 0:\n",
        "            epoch_bar.set_postfix(batch=bidx,\n",
        "                                  loss=f\"{loss.item():.4f}\")\n",
        "\n",
        "    # 에폭 종료 후 평균 손실 저장\n",
        "    avg_loss = sum(total_loss) / len(total_loss)\n",
        "    loss_history.append(avg_loss)\n",
        "\n",
        "    # 한 줄 요약 로그 출력\n",
        "    print(f\"Training [{100.0 * (epoch+1)/epochs:.0f}%] \"\n",
        "          f\"Average Loss: {avg_loss:.4f}\")"
      ]
    },
    {
      "cell_type": "code",
      "execution_count": null,
      "id": "YCIKRGhaEXey",
      "metadata": {
        "colab": {
          "base_uri": "https://localhost:8080/",
          "height": 402
        },
        "id": "YCIKRGhaEXey",
        "outputId": "25fe0de0-73dc-41cf-adf5-9aac6d081212"
      },
      "outputs": [
        {
          "output_type": "display_data",
          "data": {
            "text/plain": [
              "<Figure size 800x400 with 1 Axes>"
            ],
            "image/png": "[encoded data removed]"
          },
          "metadata": {}
        }
      ],
      "source": [
        "# 모든 에폭 종료 후 손실 시각화\n",
        "plt.figure(figsize=(8, 4))\n",
        "plt.plot(range(1, epochs+1), loss_history, marker='o', linestyle='-')\n",
        "plt.title(\"Training Loss over Epochs\")\n",
        "plt.xlabel(\"Epoch\")\n",
        "plt.ylabel(\"Average Loss\")\n",
        "plt.grid(True)\n",
        "plt.tight_layout()\n",
        "plt.show()"
      ]
    },
    {
      "cell_type": "markdown",
      "id": "T0GtZULeavQ5",
      "metadata": {
        "id": "T0GtZULeavQ5"
      },
      "source": [
        "## 모델 추론"
      ]
    },
    {
      "cell_type": "markdown",
      "id": "piWS9NHtG88D",
      "metadata": {
        "id": "piWS9NHtG88D"
      },
      "source": [
        "테스트용 DataLoader를 기반으로 **양자-클래식 하이브리드 모델 bc**에 대해 추론을 수행하고 예측값과 실제값을 수집하는 과정"
      ]
    },
    {
      "cell_type": "code",
      "execution_count": null,
      "id": "2izX1vUBbE0z",
      "metadata": {
        "colab": {
          "base_uri": "https://localhost:8080/"
        },
        "id": "2izX1vUBbE0z",
        "outputId": "95d9102d-5011-4b5f-f16e-abb91b135b21"
      },
      "outputs": [
        {
          "output_type": "stream",
          "name": "stderr",
          "text": []
        }
      ],
      "source": [
        "from datetime import datetime  # 시간 기록용 (현재 코드에서는 사용 X)\n",
        "\n",
        "# 테스트 데이터셋을 로딩하는 DataLoader 생성\n",
        "test_loader = DataLoader(\n",
        "    test_ds,            # FashionMNIST 테스트셋\n",
        "    batch_size=1,       # 한 번에 1개 샘플씩 처리\n",
        "    shuffle=False       # 평가 시에는 보통 순서 유지 (랜덤 셔플 X)\n",
        ")\n",
        "\n",
        "bc.eval()  # 모델을 평가 모드로 전환 (dropout 등 비활성화)\n",
        "\n",
        "all_preds, all_targets = [], []  # 예측값과 실제 정답값을 저장할 리스트 초기화\n",
        "\n",
        "with torch.no_grad():  # 추론 시에는 그래디언트 계산을 비활성화 (속도/메모리 효율 ↑)\n",
        "    for data, target in tqdm(\n",
        "        test_loader,                 # test 데이터셋을 순차적으로 읽음\n",
        "        desc=\"Inference\",            # tqdm 상태바 제목\n",
        "        total=len(test_loader),      # 총 배치 수 설정\n",
        "        leave=False                  # 상태바 덮어쓰기 (깔끔한 출력)\n",
        "    ):\n",
        "        # 데이터를 GPU(CUDA) 또는 CPU로 이동\n",
        "        data, target = data.to(device), target.to(device)\n",
        "\n",
        "        # 모델을 사용해 추론 결과(logits)를 얻음\n",
        "        logits = bc(data)  # log_softmax(logits) 형태로 출력됨, shape: [1, 2]\n",
        "\n",
        "        # logits에서 가장 큰 값을 갖는 인덱스를 예측값으로 설정\n",
        "        pred = logits.argmax().view(1)  # 예: [0.3, 0.7] → pred = [1]\n",
        "\n",
        "        # 예측값과 실제값을 CPU로 옮겨서 리스트에 저장\n",
        "        all_preds.append(pred.cpu())               # 예측값\n",
        "        all_targets.append(target.view(-1).cpu())  # 정답값 (batch 차원 유지)\n",
        "\n",
        "# 리스트로 모은 예측값과 정답값을 텐서로 연결하고 numpy 배열로 변환\n",
        "y_pred = torch.cat(all_preds).numpy().astype(int)     # 예측값 전체\n",
        "y_true = torch.cat(all_targets).numpy().astype(int)   # 실제 정답 전체"
      ]
    },
    {
      "cell_type": "markdown",
      "id": "6VFFoiSkipiZ",
      "metadata": {
        "id": "6VFFoiSkipiZ"
      },
      "source": [
        " ## 평가 및 결과 저장"
      ]
    },
    {
      "cell_type": "markdown",
      "id": "lYNeXPG9HeJZ",
      "metadata": {
        "id": "lYNeXPG9HeJZ"
      },
      "source": [
        "### 평가 지표 출력"
      ]
    },
    {
      "cell_type": "code",
      "execution_count": null,
      "id": "6m-7_N7JHinQ",
      "metadata": {
        "colab": {
          "base_uri": "https://localhost:8080/"
        },
        "id": "6m-7_N7JHinQ",
        "outputId": "0f597555-c95a-4f95-b597-da12407a4db9"
      },
      "outputs": [
        {
          "output_type": "stream",
          "name": "stdout",
          "text": [
            "Accuracy: 0.1144\n",
            "[[714 286   0   0   0   0   0   0   0   0]\n",
            " [570 430   0   0   0   0   0   0   0   0]\n",
            " [ 30 970   0   0   0   0   0   0   0   0]\n",
            " [564 436   0   0   0   0   0   0   0   0]\n",
            " [ 10 990   0   0   0   0   0   0   0   0]\n",
            " [371 629   0   0   0   0   0   0   0   0]\n",
            " [101 899   0   0   0   0   0   0   0   0]\n",
            " [333 667   0   0   0   0   0   0   0   0]\n",
            " [176 824   0   0   0   0   0   0   0   0]\n",
            " [ 28 972   0   0   0   0   0   0   0   0]]\n",
            "              precision    recall  f1-score   support\n",
            "\n",
            "           0     0.2465    0.7140    0.3664      1000\n",
            "           1     0.0605    0.4300    0.1061      1000\n",
            "           2     0.0000    0.0000    0.0000      1000\n",
            "           3     0.0000    0.0000    0.0000      1000\n",
            "           4     0.0000    0.0000    0.0000      1000\n",
            "           5     0.0000    0.0000    0.0000      1000\n",
            "           6     0.0000    0.0000    0.0000      1000\n",
            "           7     0.0000    0.0000    0.0000      1000\n",
            "           8     0.0000    0.0000    0.0000      1000\n",
            "           9     0.0000    0.0000    0.0000      1000\n",
            "\n",
            "    accuracy                         0.1144     10000\n",
            "   macro avg     0.0307    0.1144    0.0473     10000\n",
            "weighted avg     0.0307    0.1144    0.0473     10000\n",
            "\n"
          ]
        },
        {
          "output_type": "stream",
          "name": "stderr",
          "text": [
            "/usr/local/lib/python3.11/dist-packages/sklearn/metrics/_classification.py:1565: UndefinedMetricWarning: Precision is ill-defined and being set to 0.0 in labels with no predicted samples. Use `zero_division` parameter to control this behavior.\n",
            "  _warn_prf(average, modifier, f\"{metric.capitalize()} is\", len(result))\n",
            "/usr/local/lib/python3.11/dist-packages/sklearn/metrics/_classification.py:1565: UndefinedMetricWarning: Precision is ill-defined and being set to 0.0 in labels with no predicted samples. Use `zero_division` parameter to control this behavior.\n",
            "  _warn_prf(average, modifier, f\"{metric.capitalize()} is\", len(result))\n",
            "/usr/local/lib/python3.11/dist-packages/sklearn/metrics/_classification.py:1565: UndefinedMetricWarning: Precision is ill-defined and being set to 0.0 in labels with no predicted samples. Use `zero_division` parameter to control this behavior.\n",
            "  _warn_prf(average, modifier, f\"{metric.capitalize()} is\", len(result))\n"
          ]
        }
      ],
      "source": [
        "from sklearn.metrics import accuracy_score, confusion_matrix, classification_report\n",
        "\n",
        "print(\"Accuracy:\", accuracy_score(y_true, y_pred))\n",
        "print(confusion_matrix(y_true, y_pred))\n",
        "print(classification_report(y_true, y_pred, digits=4))\n"
      ]
    },
    {
      "cell_type": "markdown",
      "id": "bFbIkABPHquV",
      "metadata": {
        "id": "bFbIkABPHquV"
      },
      "source": [
        "### 평가 지표 시각화"
      ]
    },
    {
      "cell_type": "markdown",
      "id": "QrTuV8xiIZmm",
      "metadata": {
        "id": "QrTuV8xiIZmm"
      },
      "source": [
        "혼동 행렬(Confusion Matrix):\n",
        "- 실제 클래스와 예측 클래스의 비교를 통해 얼마나 정확하게 분류했는지 확인할 수 있습니다.\n",
        "- 정확도(Accuracy)는 약 90%로 나타났습니다 (실제 상황에서는 여러분의 모델 출력으로 대체해야 함).\n",
        "\n",
        "분류 리포트 (Classification Report):\n",
        "- Precision, Recall, F1-score를 시각화하여 각 클래스의 성능을 정량적으로 확인할 수 있습니다."
      ]
    },
    {
      "cell_type": "code",
      "execution_count": null,
      "id": "1-gZ49pDIIcr",
      "metadata": {
        "colab": {
          "base_uri": "https://localhost:8080/",
          "height": 985
        },
        "id": "1-gZ49pDIIcr",
        "outputId": "aaffaaea-5e46-4e64-c0e3-90bd7969d1d6"
      },
      "outputs": [
        {
          "output_type": "display_data",
          "data": {
            "text/plain": [
              "<Figure size 600x500 with 0 Axes>"
            ]
          },
          "metadata": {}
        },
        {
          "output_type": "display_data",
          "data": {
            "text/plain": [
              "<Figure size 640x480 with 2 Axes>"
            ],
            "image/png": "[encoded data removed]"
          },
          "metadata": {}
        },
        {
          "output_type": "stream",
          "name": "stderr",
          "text": [
            "/usr/local/lib/python3.11/dist-packages/sklearn/metrics/_classification.py:1565: UndefinedMetricWarning: Precision is ill-defined and being set to 0.0 in labels with no predicted samples. Use `zero_division` parameter to control this behavior.\n",
            "  _warn_prf(average, modifier, f\"{metric.capitalize()} is\", len(result))\n",
            "/usr/local/lib/python3.11/dist-packages/sklearn/metrics/_classification.py:1565: UndefinedMetricWarning: Precision is ill-defined and being set to 0.0 in labels with no predicted samples. Use `zero_division` parameter to control this behavior.\n",
            "  _warn_prf(average, modifier, f\"{metric.capitalize()} is\", len(result))\n",
            "/usr/local/lib/python3.11/dist-packages/sklearn/metrics/_classification.py:1565: UndefinedMetricWarning: Precision is ill-defined and being set to 0.0 in labels with no predicted samples. Use `zero_division` parameter to control this behavior.\n",
            "  _warn_prf(average, modifier, f\"{metric.capitalize()} is\", len(result))\n"
          ]
        },
        {
          "output_type": "display_data",
          "data": {
            "text/plain": [
              "<Figure size 800x400 with 2 Axes>"
            ],
            "image/png": "[encoded data removed]"
          },
          "metadata": {}
        }
      ],
      "source": [
        "import matplotlib.pyplot as plt\n",
        "import seaborn as sns\n",
        "from sklearn.metrics import confusion_matrix, ConfusionMatrixDisplay, classification_report, accuracy_score\n",
        "import pandas as pd\n",
        "\n",
        "# 실제 사용된 클래스 라벨 추출 (예: [0, 6])\n",
        "labels = sorted(set(y_true) | set(y_pred))\n",
        "label_names = [f\"Class {lbl}\" for lbl in labels]\n",
        "\n",
        "# 혼동 행렬 계산\n",
        "cm = confusion_matrix(y_true, y_pred, labels=labels)\n",
        "accuracy = accuracy_score(y_true, y_pred)\n",
        "\n",
        "# 혼동 행렬 시각화\n",
        "plt.figure(figsize=(6, 5))\n",
        "disp = ConfusionMatrixDisplay(confusion_matrix=cm, display_labels=label_names)\n",
        "disp.plot(cmap='Blues', values_format='d')\n",
        "plt.title(f\"Confusion Matrix (Accuracy: {accuracy:.2f})\")\n",
        "plt.show()\n",
        "\n",
        "# 분류 리포트 시각화\n",
        "report = classification_report(y_true, y_pred, labels=labels, output_dict=True)\n",
        "report_df = pd.DataFrame(report).iloc[:-1, :].T  # 마지막 row 'accuracy' 제외\n",
        "\n",
        "plt.figure(figsize=(8, 4))\n",
        "sns.heatmap(report_df, annot=True, fmt=\".2f\", cmap=\"YlGnBu\")\n",
        "plt.title(\"Classification Report\")\n",
        "plt.show()"
      ]
    },
    {
      "cell_type": "markdown",
      "id": "Z0zQFggSIkV3",
      "metadata": {
        "id": "Z0zQFggSIkV3"
      },
      "source": [
        "### 잘못 분류된 이미지의 시각화"
      ]
    },
    {
      "cell_type": "code",
      "execution_count": null,
      "id": "xf0PyFshIy2_",
      "metadata": {
        "colab": {
          "base_uri": "https://localhost:8080/",
          "height": 181
        },
        "id": "xf0PyFshIy2_",
        "outputId": "124616ba-fd69-4432-8342-b48617cb3409"
      },
      "outputs": [
        {
          "output_type": "display_data",
          "data": {
            "text/plain": [
              "<Figure size 1500x300 with 6 Axes>"
            ],
            "image/png": "[encoded data removed]"
          },
          "metadata": {}
        }
      ],
      "source": [
        "import torch\n",
        "\n",
        "# 잘못 분류된 인덱스 추출\n",
        "misclassified_idx = [i for i in range(len(y_true)) if y_true[i] != y_pred[i]]\n",
        "\n",
        "# 시각화 (최대 6개)\n",
        "n_show = min(6, len(misclassified_idx))\n",
        "fig, axes = plt.subplots(1, n_show, figsize=(15, 3))\n",
        "\n",
        "for i in range(n_show):\n",
        "    idx = misclassified_idx[i]\n",
        "    # 예: test_ds[idx][0][0] → 이미지 텐서, test_ds[idx][1] → 라벨\n",
        "    image_tensor = test_ds[idx][0][0]  # [채널][H][W]\n",
        "\n",
        "    axes[i].imshow(image_tensor.numpy(), cmap=\"gray\")\n",
        "    axes[i].axis(\"off\")\n",
        "    axes[i].set_title(f\"True: {y_true[idx]} / Pred: {y_pred[idx]}\")\n",
        "\n",
        "plt.suptitle(\"Misclassified Samples\")\n",
        "plt.show()"
      ]
    },
    {
      "cell_type": "markdown",
      "id": "IdwG5FFdHxYD",
      "metadata": {
        "id": "IdwG5FFdHxYD"
      },
      "source": [
        "### 결과 저장"
      ]
    },
    {
      "cell_type": "code",
      "execution_count": null,
      "id": "BdTFuLPxil_z",
      "metadata": {
        "colab": {
          "base_uri": "https://localhost:8080/"
        },
        "id": "BdTFuLPxil_z",
        "outputId": "dfa89c27-91eb-46a2-a17b-060864f4c7c0"
      },
      "outputs": [
        {
          "output_type": "stream",
          "name": "stdout",
          "text": [
            "total samples: 10000\n",
            "target samples: 2000\n",
            "accuracy (labels 0/6 only): 0.8065\n"
          ]
        }
      ],
      "source": [
        "# 0·6 라벨만 평가\n",
        "test_mask = (y_true == 0) | (y_true == 6)\n",
        "\n",
        "print(\"total samples:\", len(y_true))\n",
        "print(\"target samples:\", test_mask.sum())\n",
        "\n",
        "# 모델 결과가 1인 것을 6으로 변경\n",
        "y_pred_mapped = np.where(y_pred == 1, 6, y_pred)\n",
        "\n",
        "acc = (y_pred_mapped[test_mask] == y_true[test_mask]).mean()\n",
        "print(f\"accuracy (labels 0/6 only): {acc:.4f}\")\n",
        "\n",
        "# 현재 시각을 \"YYYYMMDD_HHMMSS\" 형식으로 포맷팅\n",
        "now = datetime.now().strftime(\"%Y%m%d_%H%M%S\")\n",
        "\n",
        "# 원본 파일명을 기반으로 새 파일명 생성\n",
        "y_pred_filename = f\"y_pred_{now}.csv\"\n",
        "\n",
        "np.savetxt(y_pred_filename, y_pred_mapped, fmt=\"%d\")"
      ]
    },
    {
      "cell_type": "markdown",
      "id": "h2U3U3XiH-Ex",
      "metadata": {
        "id": "h2U3U3XiH-Ex"
      },
      "source": []
    },
    {
      "cell_type": "markdown",
      "id": "Auq1t1kzZ_2x",
      "metadata": {
        "id": "Auq1t1kzZ_2x"
      },
      "source": [
        "## 모델 추론 결과 파일 다운로드\n",
        "\n",
        "자동으로 다운로드되는 파일을 [제출하기](https://aifactory.space/task/9154/submit) 페이지에 업로드하면 자동으로 채점이 되며 정상적으로 채점이 된다면 리더보드에서 자기점수를 확인할 수 있습니다.\n"
      ]
    },
    {
      "cell_type": "code",
      "execution_count": 1,
      "id": "lAoYOar873j9",
      "metadata": {
        "colab": {
          "base_uri": "https://localhost:8080/",
          "height": 176
        },
        "id": "lAoYOar873j9",
        "outputId": "d28b3406-2dfc-48f5-9500-e6e3828a2eb9"
      },
      "outputs": [
        {
          "output_type": "error",
          "ename": "NameError",
          "evalue": "name 'y_pred_filename' is not defined",
          "traceback": [
            "\u001b[0;31m---------------------------------------------------------------------------\u001b[0m",
            "\u001b[0;31mNameError\u001b[0m                                 Traceback (most recent call last)",
            "\u001b[0;32m/tmp/ipython-input-1-2647640930.py\u001b[0m in \u001b[0;36m<cell line: 0>\u001b[0;34m()\u001b[0m\n\u001b[1;32m      1\u001b[0m \u001b[0;32mfrom\u001b[0m \u001b[0mgoogle\u001b[0m\u001b[0;34m.\u001b[0m\u001b[0mcolab\u001b[0m \u001b[0;32mimport\u001b[0m \u001b[0mfiles\u001b[0m\u001b[0;34m\u001b[0m\u001b[0;34m\u001b[0m\u001b[0m\n\u001b[1;32m      2\u001b[0m \u001b[0;34m\u001b[0m\u001b[0m\n\u001b[0;32m----> 3\u001b[0;31m \u001b[0mfiles\u001b[0m\u001b[0;34m.\u001b[0m\u001b[0mdownload\u001b[0m\u001b[0;34m(\u001b[0m\u001b[0my_pred_filename\u001b[0m\u001b[0;34m)\u001b[0m\u001b[0;34m\u001b[0m\u001b[0;34m\u001b[0m\u001b[0m\n\u001b[0m",
            "\u001b[0;31mNameError\u001b[0m: name 'y_pred_filename' is not defined"
          ]
        }
      ],
      "source": [
        "from google.colab import files\n",
        "\n",
        "files.download(y_pred_filename)"
      ]
    }
  ],
  "metadata": {
    "colab": {
      "provenance": [],
      "toc_visible": true,
      "include_colab_link": true
    },
    "kernelspec": {
      "display_name": "Python 3",
      "name": "python3"
    },
    "language_info": {
      "name": "python"
    }
  },
  "nbformat": 4,
  "nbformat_minor": 5
}