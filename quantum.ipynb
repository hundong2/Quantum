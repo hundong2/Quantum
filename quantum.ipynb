{
  "cells": [
    {
      "cell_type": "markdown",
      "source": [
        "### 수정로그\n",
        "\n",
        "2025/7/14 전체 파라미터 수를 50,000으로 제한"
      ],
      "metadata": {
        "id": "CZwS0cho4bLH"
      },
      "id": "CZwS0cho4bLH"
    },
    {
      "cell_type": "markdown",
      "id": "a560a5bf",
      "metadata": {
        "id": "a560a5bf"
      },
      "source": [
        "# 제1회 퀀텀AI 경진대회 베이스라인\n"
      ]
    },
    {
      "cell_type": "markdown",
      "id": "373e4683",
      "metadata": {
        "id": "373e4683"
      },
      "source": [
        "이 안내 노트북에서는 양자 컴퓨팅 프레임 워크에 대한 개략적인 소개와 QML의 구현 방법을 알아 봅니다.\n"
      ]
    },
    {
      "cell_type": "markdown",
      "id": "61a4fbed",
      "metadata": {
        "id": "61a4fbed"
      },
      "source": [
        "다양한 QML framework가 있고 기존 ML framework들과 잘 통합되어 있습니다.\n",
        "일반적으로는 다음 2 개를 많이 사용합니다.\n",
        "\n",
        "1. Pennylane: 캐나다 Xanadu에서 만든 양자 컴퓨팅 Framework입니다. 다른 프로젝트들에 비해 머신러닝에 친화적인 인터페이스와 요소를 제공합니다.\n",
        "2. Qiskit: IBM에서 만든 양자컴퓨팅 Framework입니다. 좀 더 물리적인 실험과 및 대규모 HPC 연산을 포함하는 통합적인 Framework를 제공하고 있습니다.\n",
        "\n",
        "여기서는 QML 구현을 위해 Pennylane을 사용해 볼 것입니다.\n",
        "\n",
        "Pennylane은 PyPI에 등록되어 있습니다. 현재 최신 버전은 0.4.x입니다.\n",
        "다음 명령어로 Python 환경에 `pennylane`을 설치하세요.\n",
        "\n",
        "Pennylane에 대한 Tutorial과 자세한 사항들은 [Pennylane codebook](https://pennylane.ai/codebook)과 [Demos](https://pennylane.ai/search/?contentType=DEMO&categories=how-to&sort=publication_date) 를 참고하세요."
      ]
    },
    {
      "cell_type": "code",
      "execution_count": null,
      "id": "4uOjWopNdaiG",
      "metadata": {
        "id": "4uOjWopNdaiG"
      },
      "outputs": [],
      "source": []
    },
    {
      "cell_type": "code",
      "execution_count": null,
      "id": "9b632a1d-0f76-4193-9542-94e4bd6d2ed2",
      "metadata": {
        "id": "9b632a1d-0f76-4193-9542-94e4bd6d2ed2",
        "colab": {
          "base_uri": "https://localhost:8080/"
        },
        "outputId": "ddadf565-38d8-459a-b93d-2a3739b369d9"
      },
      "outputs": [
        {
          "output_type": "stream",
          "name": "stdout",
          "text": [
            "Collecting pennylane\n",
            "  Downloading PennyLane-0.41.1-py3-none-any.whl.metadata (10 kB)\n",
            "Requirement already satisfied: numpy in /usr/local/lib/python3.11/dist-packages (from pennylane) (2.0.2)\n",
            "Requirement already satisfied: scipy in /usr/local/lib/python3.11/dist-packages (from pennylane) (1.15.3)\n",
            "Requirement already satisfied: networkx in /usr/local/lib/python3.11/dist-packages (from pennylane) (3.5)\n",
            "Collecting rustworkx>=0.14.0 (from pennylane)\n",
            "  Downloading rustworkx-0.16.0-cp39-abi3-manylinux_2_17_x86_64.manylinux2014_x86_64.whl.metadata (10 kB)\n",
            "Requirement already satisfied: autograd in /usr/local/lib/python3.11/dist-packages (from pennylane) (1.8.0)\n",
            "Requirement already satisfied: tomlkit in /usr/local/lib/python3.11/dist-packages (from pennylane) (0.13.3)\n",
            "Collecting appdirs (from pennylane)\n",
            "  Downloading appdirs-1.4.4-py2.py3-none-any.whl.metadata (9.0 kB)\n",
            "Collecting autoray>=0.6.11 (from pennylane)\n",
            "  Downloading autoray-0.7.2-py3-none-any.whl.metadata (5.8 kB)\n",
            "Requirement already satisfied: cachetools in /usr/local/lib/python3.11/dist-packages (from pennylane) (5.5.2)\n",
            "Collecting pennylane-lightning>=0.41 (from pennylane)\n",
            "  Downloading pennylane_lightning-0.41.1-cp311-cp311-manylinux_2_28_x86_64.whl.metadata (12 kB)\n",
            "Requirement already satisfied: requests in /usr/local/lib/python3.11/dist-packages (from pennylane) (2.32.3)\n",
            "Requirement already satisfied: typing-extensions in /usr/local/lib/python3.11/dist-packages (from pennylane) (4.14.1)\n",
            "Requirement already satisfied: packaging in /usr/local/lib/python3.11/dist-packages (from pennylane) (24.2)\n",
            "Collecting diastatic-malt (from pennylane)\n",
            "  Downloading diastatic_malt-2.15.2-py3-none-any.whl.metadata (2.6 kB)\n",
            "Collecting scipy-openblas32>=0.3.26 (from pennylane-lightning>=0.41->pennylane)\n",
            "  Downloading scipy_openblas32-0.3.30.0.1-py3-none-manylinux2014_x86_64.manylinux_2_17_x86_64.whl.metadata (57 kB)\n",
            "\u001b[2K     \u001b[90m━━━━━━━━━━━━━━━━━━━━━━━━━━━━━━━━━━━━━━━━\u001b[0m \u001b[32m57.1/57.1 kB\u001b[0m \u001b[31m3.6 MB/s\u001b[0m eta \u001b[36m0:00:00\u001b[0m\n",
            "\u001b[?25hRequirement already satisfied: astunparse in /usr/local/lib/python3.11/dist-packages (from diastatic-malt->pennylane) (1.6.3)\n",
            "Requirement already satisfied: gast in /usr/local/lib/python3.11/dist-packages (from diastatic-malt->pennylane) (0.6.0)\n",
            "Requirement already satisfied: termcolor in /usr/local/lib/python3.11/dist-packages (from diastatic-malt->pennylane) (3.1.0)\n",
            "Requirement already satisfied: charset-normalizer<4,>=2 in /usr/local/lib/python3.11/dist-packages (from requests->pennylane) (3.4.2)\n",
            "Requirement already satisfied: idna<4,>=2.5 in /usr/local/lib/python3.11/dist-packages (from requests->pennylane) (3.10)\n",
            "Requirement already satisfied: urllib3<3,>=1.21.1 in /usr/local/lib/python3.11/dist-packages (from requests->pennylane) (2.4.0)\n",
            "Requirement already satisfied: certifi>=2017.4.17 in /usr/local/lib/python3.11/dist-packages (from requests->pennylane) (2025.7.9)\n",
            "Requirement already satisfied: wheel<1.0,>=0.23.0 in /usr/local/lib/python3.11/dist-packages (from astunparse->diastatic-malt->pennylane) (0.45.1)\n",
            "Requirement already satisfied: six<2.0,>=1.6.1 in /usr/local/lib/python3.11/dist-packages (from astunparse->diastatic-malt->pennylane) (1.17.0)\n",
            "Downloading PennyLane-0.41.1-py3-none-any.whl (2.3 MB)\n",
            "\u001b[2K   \u001b[90m━━━━━━━━━━━━━━━━━━━━━━━━━━━━━━━━━━━━━━━━\u001b[0m \u001b[32m2.3/2.3 MB\u001b[0m \u001b[31m23.9 MB/s\u001b[0m eta \u001b[36m0:00:00\u001b[0m\n",
            "\u001b[?25hDownloading autoray-0.7.2-py3-none-any.whl (930 kB)\n",
            "\u001b[2K   \u001b[90m━━━━━━━━━━━━━━━━━━━━━━━━━━━━━━━━━━━━━━━━\u001b[0m \u001b[32m930.8/930.8 kB\u001b[0m \u001b[31m12.8 MB/s\u001b[0m eta \u001b[36m0:00:00\u001b[0m\n",
            "\u001b[?25hDownloading pennylane_lightning-0.41.1-cp311-cp311-manylinux_2_28_x86_64.whl (2.5 MB)\n",
            "\u001b[2K   \u001b[90m━━━━━━━━━━━━━━━━━━━━━━━━━━━━━━━━━━━━━━━━\u001b[0m \u001b[32m2.5/2.5 MB\u001b[0m \u001b[31m47.5 MB/s\u001b[0m eta \u001b[36m0:00:00\u001b[0m\n",
            "\u001b[?25hDownloading rustworkx-0.16.0-cp39-abi3-manylinux_2_17_x86_64.manylinux2014_x86_64.whl (2.1 MB)\n",
            "\u001b[2K   \u001b[90m━━━━━━━━━━━━━━━━━━━━━━━━━━━━━━━━━━━━━━━━\u001b[0m \u001b[32m2.1/2.1 MB\u001b[0m \u001b[31m20.6 MB/s\u001b[0m eta \u001b[36m0:00:00\u001b[0m\n",
            "\u001b[?25hDownloading appdirs-1.4.4-py2.py3-none-any.whl (9.6 kB)\n",
            "Downloading diastatic_malt-2.15.2-py3-none-any.whl (167 kB)\n",
            "\u001b[2K   \u001b[90m━━━━━━━━━━━━━━━━━━━━━━━━━━━━━━━━━━━━━━━━\u001b[0m \u001b[32m167.9/167.9 kB\u001b[0m \u001b[31m12.2 MB/s\u001b[0m eta \u001b[36m0:00:00\u001b[0m\n",
            "\u001b[?25hDownloading scipy_openblas32-0.3.30.0.1-py3-none-manylinux2014_x86_64.manylinux_2_17_x86_64.whl (8.6 MB)\n",
            "\u001b[2K   \u001b[90m━━━━━━━━━━━━━━━━━━━━━━━━━━━━━━━━━━━━━━━━\u001b[0m \u001b[32m8.6/8.6 MB\u001b[0m \u001b[31m29.6 MB/s\u001b[0m eta \u001b[36m0:00:00\u001b[0m\n",
            "\u001b[?25hInstalling collected packages: appdirs, scipy-openblas32, rustworkx, autoray, diastatic-malt, pennylane-lightning, pennylane\n",
            "Successfully installed appdirs-1.4.4 autoray-0.7.2 diastatic-malt-2.15.2 pennylane-0.41.1 pennylane-lightning-0.41.1 rustworkx-0.16.0 scipy-openblas32-0.3.30.0.1\n"
          ]
        }
      ],
      "source": [
        "!pip install pennylane"
      ]
    },
    {
      "cell_type": "markdown",
      "id": "d734b599",
      "metadata": {
        "id": "d734b599"
      },
      "source": [
        "## 양자 회로 설계하기"
      ]
    },
    {
      "cell_type": "code",
      "execution_count": null,
      "id": "e76f92fa",
      "metadata": {
        "id": "e76f92fa",
        "colab": {
          "base_uri": "https://localhost:8080/"
        },
        "outputId": "b03d5760-5b13-4fed-bf66-e0c644821058"
      },
      "outputs": [
        {
          "output_type": "stream",
          "name": "stderr",
          "text": [
            "/usr/local/lib/python3.11/dist-packages/pennylane/capture/capture_operators.py:33: RuntimeWarning: PennyLane is not yet compatible with JAX versions > 0.4.28. You have version 0.5.2 installed. Please downgrade JAX to <=0.4.28 to avoid runtime errors.\n",
            "  warnings.warn(\n"
          ]
        }
      ],
      "source": [
        "import pennylane as qml # 일반적으로 qml이란 이름으로 가져옵니다. Quantum Machine Learning의 약자입니다.\n",
        "import numpy as np\n",
        "\n",
        "dev = qml.device(\"default.qubit\", wires=3) # device를 정의합니다.\n",
        "\n",
        "@qml.qnode(dev)\n",
        "def circuit():\n",
        "    qml.H(0)\n",
        "    qml.S(0)\n",
        "    qml.H(1)\n",
        "    qml.H(2)\n",
        "    return qml.probs()"
      ]
    },
    {
      "cell_type": "markdown",
      "id": "a43R6fDo-82a",
      "metadata": {
        "id": "a43R6fDo-82a"
      },
      "source": [
        "## 양자 회로 그리기"
      ]
    },
    {
      "cell_type": "code",
      "execution_count": null,
      "id": "dee36ce1",
      "metadata": {
        "id": "dee36ce1",
        "colab": {
          "base_uri": "https://localhost:8080/"
        },
        "outputId": "c41f4262-c27d-4eb8-aa77-f8ca9cd29e21"
      },
      "outputs": [
        {
          "output_type": "stream",
          "name": "stdout",
          "text": [
            "0: ──H──S─┤  Probs\n",
            "1: ──H────┤  Probs\n",
            "2: ──H────┤  Probs\n"
          ]
        }
      ],
      "source": [
        "print(qml.draw(circuit)())"
      ]
    },
    {
      "cell_type": "code",
      "execution_count": null,
      "id": "38407a51",
      "metadata": {
        "id": "38407a51",
        "colab": {
          "base_uri": "https://localhost:8080/",
          "height": 454
        },
        "outputId": "558ce7b9-59f2-4072-a58c-0707552ac349"
      },
      "outputs": [
        {
          "output_type": "execute_result",
          "data": {
            "text/plain": [
              "(<Figure size 500x400 with 1 Axes>, <Axes: >)"
            ]
          },
          "metadata": {},
          "execution_count": 4
        },
        {
          "output_type": "display_data",
          "data": {
            "text/plain": [
              "<Figure size 500x400 with 1 Axes>"
            ],
            "image/png": "[encoded data removed]"
          },
          "metadata": {}
        }
      ],
      "source": [
        "qml.draw_mpl(circuit)()"
      ]
    },
    {
      "cell_type": "markdown",
      "id": "10db9939",
      "metadata": {
        "id": "10db9939"
      },
      "source": [
        "|양자 회로| ML|\n",
        "|:--:|:--:|\n",
        "|Quantum Circuit| Layer, ML Module|\n",
        "|Backend | device(CPU, CUDA, ...)|"
      ]
    },
    {
      "cell_type": "markdown",
      "id": "1febcca3",
      "metadata": {
        "id": "1febcca3"
      },
      "source": [
        "## Backend\n",
        "\n",
        "Backend는 실제 양자 회로를 구동하는 시뮬레이터, 혹은 양자 컴퓨터입니다. 한 개의 회로를 어느 기기에서 돌릴 지 미리 선언을 해주어야 합니다.\n",
        "\n",
        "\n",
        "**Backend 선택하기**\n",
        "\n",
        "다양한 Backend를 양자 회로를 돌리는 데 사용할 수 있습니다. Pennylaned의 `default.qubit`, `lightning.qubit`등 뿐만 아니라, Qiskit, IQM 등 실제 양자 컴퓨터의 Backend interface를 가져와 사용할 수도 있습니다.\n",
        "그러나, QML을 구현하고 시험해 볼 때는 `default.qubit`이 권장됩니다. 다른 ML 프레임워크와의 결합도 간편할 뿐더러 가장 빠른 differentiation 방법을 제공합니다.\n",
        "\n",
        "Backend 선택과 개별 device에 대한 정보는 Pennylane의 공식 문서: [Quantum Devices](https://pennylane.ai/devices)를 참고하세요."
      ]
    },
    {
      "cell_type": "code",
      "execution_count": null,
      "id": "afa77e40",
      "metadata": {
        "id": "afa77e40"
      },
      "outputs": [],
      "source": [
        "NUMBER_OF_WIRES =20\n",
        "dev = qml.device(\"default.qubit\", wires=NUMBER_OF_WIRES, shots=3000)"
      ]
    },
    {
      "cell_type": "markdown",
      "id": "44b2a8eb",
      "metadata": {
        "id": "44b2a8eb"
      },
      "source": [
        "## 측정하기\n",
        "\n",
        "- `qml.probs`: 개별 state들의 측정 확률 벡터입니다. $N$ qubit에 대해 $2^N$ 크기를 가집니다.\n",
        "- `qml.expval`: Pennylane의 Observable들을 측정합니다. 기초적으로 `qml.PauliZ(i), qml.PauliX(i), qml.PauliY(i)`가 있으며 이들을 조합 하거나/여러개의 Observable을 측정할 수 있습니다."
      ]
    },
    {
      "cell_type": "code",
      "execution_count": null,
      "id": "a56477c0-2419-4be2-a7bf-23c4804d8b73",
      "metadata": {
        "id": "a56477c0-2419-4be2-a7bf-23c4804d8b73"
      },
      "outputs": [],
      "source": [
        "dev_3 = qml.device(\"default.qubit\", wires=3)\n",
        "\n",
        "@qml.qnode(dev_3)\n",
        "def circuit1():\n",
        "    qml.H(0)\n",
        "    qml.H(1)\n",
        "    return qml.expval(qml.PauliX(0))\n",
        "@qml.qnode(dev_3)\n",
        "def circuit2():\n",
        "    qml.H(0)\n",
        "    qml.H(1)\n",
        "    return qml.probs()\n",
        "@qml.qnode(dev_3)\n",
        "def circuit3():\n",
        "    qml.H(0)\n",
        "    qml.H(1)\n",
        "    return [qml.expval(qml.PauliZ(i)) for i in range(3)]\n"
      ]
    },
    {
      "cell_type": "code",
      "execution_count": null,
      "id": "c5e7657f-a912-49a9-b6ae-cac5227b2943",
      "metadata": {
        "id": "c5e7657f-a912-49a9-b6ae-cac5227b2943",
        "colab": {
          "base_uri": "https://localhost:8080/"
        },
        "outputId": "1e099ea2-f2a4-44d7-fb7b-2159c77e294f"
      },
      "outputs": [
        {
          "output_type": "execute_result",
          "data": {
            "text/plain": [
              "np.float64(0.9999999999999996)"
            ]
          },
          "metadata": {},
          "execution_count": 7
        }
      ],
      "source": [
        "circuit1()"
      ]
    },
    {
      "cell_type": "code",
      "execution_count": null,
      "id": "325014c6-e62b-4e5b-a445-a865b9f01097",
      "metadata": {
        "id": "325014c6-e62b-4e5b-a445-a865b9f01097",
        "colab": {
          "base_uri": "https://localhost:8080/"
        },
        "outputId": "33f161ce-0866-4214-a3da-0ada82bf3bcb"
      },
      "outputs": [
        {
          "output_type": "execute_result",
          "data": {
            "text/plain": [
              "array([0.25, 0.  , 0.25, 0.  , 0.25, 0.  , 0.25, 0.  ])"
            ]
          },
          "metadata": {},
          "execution_count": 8
        }
      ],
      "source": [
        "circuit2()"
      ]
    },
    {
      "cell_type": "code",
      "execution_count": null,
      "id": "68da99b2-63d7-4bd5-8521-7ee958d9b8df",
      "metadata": {
        "id": "68da99b2-63d7-4bd5-8521-7ee958d9b8df",
        "colab": {
          "base_uri": "https://localhost:8080/"
        },
        "outputId": "a9925dc6-9e2a-4cfd-8965-6f5908aafc90"
      },
      "outputs": [
        {
          "output_type": "execute_result",
          "data": {
            "text/plain": [
              "[np.float64(0.0), np.float64(0.0), np.float64(0.9999999999999996)]"
            ]
          },
          "metadata": {},
          "execution_count": 9
        }
      ],
      "source": [
        "circuit3()"
      ]
    },
    {
      "cell_type": "code",
      "execution_count": null,
      "id": "50b45ab1-d75f-4eb7-8709-90b4d26cf370",
      "metadata": {
        "id": "50b45ab1-d75f-4eb7-8709-90b4d26cf370",
        "colab": {
          "base_uri": "https://localhost:8080/"
        },
        "outputId": "ee85b029-f219-4d04-84fd-39345d50ab36"
      },
      "outputs": [
        {
          "output_type": "execute_result",
          "data": {
            "text/plain": [
              "Z(0) @ X(1)"
            ]
          },
          "metadata": {},
          "execution_count": 10
        }
      ],
      "source": [
        "obs = qml.PauliZ(0) @ qml.PauliX(1)\n",
        "obs"
      ]
    },
    {
      "cell_type": "code",
      "execution_count": null,
      "id": "1fb4ff47-1657-4fec-9262-382b6d6e46d7",
      "metadata": {
        "id": "1fb4ff47-1657-4fec-9262-382b6d6e46d7"
      },
      "outputs": [],
      "source": [
        "@qml.qnode(dev_3)\n",
        "def circuit4():\n",
        "    qml.H(0)\n",
        "    qml.H(1)\n",
        "    qml.H(2)\n",
        "    return qml.expval(obs)"
      ]
    },
    {
      "cell_type": "code",
      "execution_count": null,
      "id": "f07a4764-dfab-4057-8263-2b5fc05a2d6f",
      "metadata": {
        "id": "f07a4764-dfab-4057-8263-2b5fc05a2d6f",
        "colab": {
          "base_uri": "https://localhost:8080/"
        },
        "outputId": "52f344de-82bb-46b1-ac48-ea707395f62d"
      },
      "outputs": [
        {
          "output_type": "execute_result",
          "data": {
            "text/plain": [
              "np.float64(0.0)"
            ]
          },
          "metadata": {},
          "execution_count": 12
        }
      ],
      "source": [
        "circuit4()"
      ]
    },
    {
      "cell_type": "markdown",
      "id": "0af34568",
      "metadata": {
        "id": "0af34568"
      },
      "source": [
        "## 양자 회로의 설계"
      ]
    },
    {
      "cell_type": "code",
      "execution_count": null,
      "id": "wTakAWUl_m89",
      "metadata": {
        "id": "wTakAWUl_m89"
      },
      "outputs": [],
      "source": [
        "from pennylane import numpy as np_p"
      ]
    },
    {
      "cell_type": "code",
      "execution_count": null,
      "id": "Aig2Zp2v_m3f",
      "metadata": {
        "id": "Aig2Zp2v_m3f"
      },
      "outputs": [],
      "source": [
        "dev = qml.device(\"default.qubit\", wires=1)\n",
        "@qml.qnode(dev)\n",
        "def single_qubit_circuit(theta, input_value):\n",
        "    qml.RX(theta, wires=0)\n",
        "    qml.RY(input_value, wires=0)\n",
        "    return qml.expval(qml.PauliZ(0))\n"
      ]
    },
    {
      "cell_type": "code",
      "execution_count": null,
      "id": "ajuEapHiACG3",
      "metadata": {
        "id": "ajuEapHiACG3",
        "colab": {
          "base_uri": "https://localhost:8080/"
        },
        "outputId": "f928135a-0f69-401a-8cd0-d5bfb0d53553"
      },
      "outputs": [
        {
          "output_type": "execute_result",
          "data": {
            "text/plain": [
              "np.float64(0.9751703272018161)"
            ]
          },
          "metadata": {},
          "execution_count": 15
        }
      ],
      "source": [
        "single_qubit_circuit(0.1, 0.2) # Customized numpy result"
      ]
    },
    {
      "cell_type": "code",
      "execution_count": null,
      "id": "k3RDyRhqAE6z",
      "metadata": {
        "id": "k3RDyRhqAE6z"
      },
      "outputs": [],
      "source": [
        "#Batched data\n",
        "theta = 0.032\n",
        "theta_b = np_p.array([0.2, 0.3, 0.5])\n",
        "input_value_b = np_p.array([3.2, 1.2, 0.1])\n"
      ]
    },
    {
      "cell_type": "code",
      "execution_count": null,
      "id": "NNvJccpKAPFd",
      "metadata": {
        "id": "NNvJccpKAPFd",
        "colab": {
          "base_uri": "https://localhost:8080/"
        },
        "outputId": "b9b8c51d-d7b5-458a-a901-a69886de3945"
      },
      "outputs": [
        {
          "output_type": "execute_result",
          "data": {
            "text/plain": [
              "tensor([-0.97839534,  0.34617358,  0.8731983 ], requires_grad=True)"
            ]
          },
          "metadata": {},
          "execution_count": 17
        }
      ],
      "source": [
        "single_qubit_circuit(theta_b, input_value_b) # Parameter가 모두 Batched parameter"
      ]
    },
    {
      "cell_type": "code",
      "execution_count": null,
      "id": "7oZG_vrAArhD",
      "metadata": {
        "id": "7oZG_vrAArhD",
        "colab": {
          "base_uri": "https://localhost:8080/"
        },
        "outputId": "92b21d1f-802f-4736-9d23-049495c0d6f7"
      },
      "outputs": [
        {
          "output_type": "execute_result",
          "data": {
            "text/plain": [
              "tensor([-0.99778369,  0.36217224,  0.99449477], requires_grad=True)"
            ]
          },
          "metadata": {},
          "execution_count": 18
        }
      ],
      "source": [
        "single_qubit_circuit(theta, input_value_b) # Single, batched parameter 조합"
      ]
    },
    {
      "cell_type": "markdown",
      "id": "09c24267-5287-49b6-be45-6696bc24358d",
      "metadata": {
        "id": "09c24267-5287-49b6-be45-6696bc24358d"
      },
      "source": [
        "#### Pennylane Optimizer"
      ]
    },
    {
      "cell_type": "code",
      "execution_count": null,
      "id": "9364111e-e06d-4e06-b3d0-de2855c9565f",
      "metadata": {
        "id": "9364111e-e06d-4e06-b3d0-de2855c9565f"
      },
      "outputs": [],
      "source": [
        "opt = qml.GradientDescentOptimizer(stepsize=0.01)\n",
        "max_iterations = 500\n",
        "conv_tol = 1e-06\n",
        "param = np_p.random.rand(1, requires_grad=True)\n",
        "\n",
        "his_param = []\n",
        "his_energy = []\n",
        "for i in range(max_iterations):\n",
        "    param, prev_energy = opt.step_and_cost(lambda x: single_qubit_circuit(x, input_value_b[0]), param)\n",
        "    his_param.append(param)\n",
        "    his_energy.append(prev_energy)\n",
        "    energy = single_qubit_circuit(param, input_value_b[0])\n",
        "    conv = np_p.abs(prev_energy - energy)\n",
        "    if conv <= conv_tol:\n",
        "        break\n"
      ]
    },
    {
      "cell_type": "code",
      "execution_count": null,
      "id": "e208bd82-fc78-4698-a6b1-fdce3755685d",
      "metadata": {
        "id": "e208bd82-fc78-4698-a6b1-fdce3755685d"
      },
      "outputs": [],
      "source": [
        "import matplotlib.pyplot as plt"
      ]
    },
    {
      "cell_type": "code",
      "execution_count": null,
      "id": "68f25bae-2246-4171-944c-371f1ee9ef35",
      "metadata": {
        "id": "68f25bae-2246-4171-944c-371f1ee9ef35",
        "colab": {
          "base_uri": "https://localhost:8080/",
          "height": 448
        },
        "outputId": "46e726fd-9bfe-4afb-a296-1453ca22188b"
      },
      "outputs": [
        {
          "output_type": "execute_result",
          "data": {
            "text/plain": [
              "[<matplotlib.lines.Line2D at 0x7cb5371814d0>]"
            ]
          },
          "metadata": {},
          "execution_count": 21
        },
        {
          "output_type": "display_data",
          "data": {
            "text/plain": [
              "<Figure size 640x480 with 1 Axes>"
            ],
            "image/png": "[encoded data removed]"
          },
          "metadata": {}
        }
      ],
      "source": [
        "plt.plot(his_energy)"
      ]
    },
    {
      "cell_type": "markdown",
      "id": "5fc906be-16fa-4eb4-a595-1ab948bd6a78",
      "metadata": {
        "id": "5fc906be-16fa-4eb4-a595-1ab948bd6a78"
      },
      "source": [
        "### Torch integration"
      ]
    },
    {
      "cell_type": "code",
      "execution_count": null,
      "id": "fVtgUXbhA07N",
      "metadata": {
        "id": "fVtgUXbhA07N"
      },
      "outputs": [],
      "source": [
        "import torch\n",
        "from torch.optim import Adam\n",
        "from torch.nn.parameter import Parameter\n",
        "from torch.nn import NLLLoss\n",
        "\n",
        "device = torch.device(\"cuda\" if torch.cuda.is_available() else \"cpu\")"
      ]
    },
    {
      "cell_type": "code",
      "execution_count": null,
      "id": "zIW7OCooA8Uf",
      "metadata": {
        "id": "zIW7OCooA8Uf",
        "colab": {
          "base_uri": "https://localhost:8080/"
        },
        "outputId": "13b917a6-68c0-4f13-b853-21f210e096e8"
      },
      "outputs": [
        {
          "output_type": "execute_result",
          "data": {
            "text/plain": [
              "tensor([0.9087, 0.7530, 0.5466, 0.6044], dtype=torch.float64)"
            ]
          },
          "metadata": {},
          "execution_count": 23
        }
      ],
      "source": [
        "torch_theta = torch.rand(4)\n",
        "torch_phi = torch.rand(4)\n",
        "single_qubit_circuit(torch_theta, torch_phi) # Torch tensor의 경우 자동으로 tensor array로 변환"
      ]
    },
    {
      "cell_type": "code",
      "execution_count": null,
      "id": "c716cc12-86b9-42f8-afb1-52965baafb20",
      "metadata": {
        "id": "c716cc12-86b9-42f8-afb1-52965baafb20",
        "colab": {
          "base_uri": "https://localhost:8080/"
        },
        "outputId": "c02ba16f-915f-4451-f030-9841ca5d8a30"
      },
      "outputs": [
        {
          "output_type": "execute_result",
          "data": {
            "text/plain": [
              "Parameter containing:\n",
              "tensor(0.4439, requires_grad=True)"
            ]
          },
          "metadata": {},
          "execution_count": 24
        }
      ],
      "source": [
        "parameter = Parameter(torch.tensor( torch.rand(1).item(), requires_grad = True))\n",
        "parameter"
      ]
    },
    {
      "cell_type": "code",
      "execution_count": null,
      "id": "e0de3624-3a91-4675-99a1-e5c039196a4b",
      "metadata": {
        "id": "e0de3624-3a91-4675-99a1-e5c039196a4b"
      },
      "outputs": [],
      "source": [
        "optim = Adam([parameter], lr= 0.001)"
      ]
    },
    {
      "cell_type": "code",
      "execution_count": null,
      "id": "ab55b060-d597-4064-85fd-09b22b05d49a",
      "metadata": {
        "id": "ab55b060-d597-4064-85fd-09b22b05d49a"
      },
      "outputs": [],
      "source": [
        "input_data = torch.rand(1)\n",
        "history_e  =[]\n",
        "for i in range(1000):\n",
        "    optim.zero_grad()\n",
        "    result = single_qubit_circuit(input_data, parameter)+1\n",
        "    loss = (result)\n",
        "    loss.backward()\n",
        "    history_e.append(result.item())\n",
        "    optim.step()"
      ]
    },
    {
      "cell_type": "code",
      "execution_count": null,
      "id": "061f5d2b-e6a7-4b6b-b71d-e8e6586b8165",
      "metadata": {
        "id": "061f5d2b-e6a7-4b6b-b71d-e8e6586b8165"
      },
      "outputs": [],
      "source": [
        "import matplotlib.pyplot as plt"
      ]
    },
    {
      "cell_type": "code",
      "execution_count": null,
      "id": "843a8319-f7b1-47ff-8777-4c3701b6709b",
      "metadata": {
        "colab": {
          "base_uri": "https://localhost:8080/",
          "height": 448
        },
        "id": "843a8319-f7b1-47ff-8777-4c3701b6709b",
        "outputId": "d00184da-0605-4c28-c50d-75ed89c95c72"
      },
      "outputs": [
        {
          "output_type": "execute_result",
          "data": {
            "text/plain": [
              "[<matplotlib.lines.Line2D at 0x7cb46d2c78d0>]"
            ]
          },
          "metadata": {},
          "execution_count": 28
        },
        {
          "output_type": "display_data",
          "data": {
            "text/plain": [
              "<Figure size 640x480 with 1 Axes>"
            ],
            "image/png": "[encoded data removed]"
          },
          "metadata": {}
        }
      ],
      "source": [
        "plt.plot(history_e)"
      ]
    },
    {
      "cell_type": "markdown",
      "id": "7eea7f64",
      "metadata": {
        "id": "7eea7f64"
      },
      "source": [
        "# 분류 모델 만들기"
      ]
    },
    {
      "cell_type": "markdown",
      "id": "8d763f71",
      "metadata": {
        "id": "8d763f71"
      },
      "source": [
        "## 0-1 binary classfiers"
      ]
    },
    {
      "cell_type": "markdown",
      "id": "9b4b934e-a214-4677-a2d3-9fd491a962ba",
      "metadata": {
        "id": "9b4b934e-a214-4677-a2d3-9fd491a962ba"
      },
      "source": [
        "### Fashion MINIST dataset"
      ]
    },
    {
      "cell_type": "code",
      "execution_count": null,
      "id": "nLwXGWvlBvT3",
      "metadata": {
        "id": "nLwXGWvlBvT3"
      },
      "outputs": [],
      "source": [
        "import torch\n",
        "from torch.utils.data import Subset\n",
        "from torch.utils.data import DataLoader\n",
        "import torchvision"
      ]
    },
    {
      "cell_type": "code",
      "execution_count": null,
      "id": "cChul3HsBvNX",
      "metadata": {
        "colab": {
          "base_uri": "https://localhost:8080/"
        },
        "id": "cChul3HsBvNX",
        "outputId": "098574d5-5251-4e1c-d3e5-6c4e2046a4f3"
      },
      "outputs": [
        {
          "output_type": "stream",
          "name": "stderr",
          "text": [
            "100%|██████████| 26.4M/26.4M [00:02<00:00, 11.4MB/s]\n",
            "100%|██████████| 29.5k/29.5k [00:00<00:00, 210kB/s]\n",
            "100%|██████████| 4.42M/4.42M [00:01<00:00, 3.92MB/s]\n",
            "100%|██████████| 5.15k/5.15k [00:00<00:00, 11.4MB/s]\n"
          ]
        }
      ],
      "source": [
        "transform = torchvision.transforms.Compose([\n",
        "        torchvision.transforms.ToTensor(),\n",
        "        torchvision.transforms.Normalize((0.5,), (0.5,))\n",
        "        ])\n",
        "\n",
        "train_ds = torchvision.datasets.FashionMNIST(\n",
        "    \"./\", train=True, download=True,\n",
        "    transform=transform)\n",
        "\n",
        "test_ds = torchvision.datasets.FashionMNIST(\n",
        "    \"./\", train=False, download=True,\n",
        "    transform=transform)"
      ]
    },
    {
      "cell_type": "code",
      "execution_count": null,
      "id": "5dc12000-59b6-48f3-975f-eeb7322fc225",
      "metadata": {
        "id": "5dc12000-59b6-48f3-975f-eeb7322fc225"
      },
      "outputs": [],
      "source": [
        "train_mask = (train_ds.targets == 0) | (train_ds.targets == 6)\n",
        "train_idx = torch.where(train_mask)[0]\n",
        "train_ds.targets[train_ds.targets == 6] = 1\n",
        "\n",
        "binary_train_ds = Subset(train_ds, train_idx)"
      ]
    },
    {
      "cell_type": "code",
      "execution_count": null,
      "id": "b3b19bcf-ff46-430e-80a9-7116e51cfe62",
      "metadata": {
        "id": "b3b19bcf-ff46-430e-80a9-7116e51cfe62"
      },
      "outputs": [],
      "source": [
        "train_loader = DataLoader(binary_train_ds, batch_size = 1, shuffle =True)"
      ]
    },
    {
      "cell_type": "code",
      "execution_count": null,
      "id": "e4d00477-0ab9-40f5-8671-f8d61cbdf278",
      "metadata": {
        "id": "e4d00477-0ab9-40f5-8671-f8d61cbdf278"
      },
      "outputs": [],
      "source": [
        "from matplotlib import pyplot as plt"
      ]
    },
    {
      "cell_type": "code",
      "execution_count": null,
      "id": "1a6d9ed3-0058-4d18-b0c0-52d6654f8294",
      "metadata": {
        "colab": {
          "base_uri": "https://localhost:8080/",
          "height": 448
        },
        "id": "1a6d9ed3-0058-4d18-b0c0-52d6654f8294",
        "outputId": "e731c89d-1542-4ffa-c613-06c1b1132053"
      },
      "outputs": [
        {
          "output_type": "execute_result",
          "data": {
            "text/plain": [
              "<matplotlib.image.AxesImage at 0x7cb46d2da650>"
            ]
          },
          "metadata": {},
          "execution_count": 34
        },
        {
          "output_type": "display_data",
          "data": {
            "text/plain": [
              "<Figure size 640x480 with 1 Axes>"
            ],
            "image/png": "[encoded data removed]"
          },
          "metadata": {}
        }
      ],
      "source": [
        "plt.imshow(binary_train_ds[20][0][0], cmap=\"grey\")"
      ]
    },
    {
      "cell_type": "code",
      "execution_count": null,
      "id": "44f5cdad-5333-4da7-ab20-822b83233328",
      "metadata": {
        "colab": {
          "base_uri": "https://localhost:8080/",
          "height": 141
        },
        "id": "44f5cdad-5333-4da7-ab20-822b83233328",
        "outputId": "d7c9ceb4-a55e-4c6b-f3ca-2d33764e2d22"
      },
      "outputs": [
        {
          "output_type": "display_data",
          "data": {
            "text/plain": [
              "<Figure size 1000x300 with 8 Axes>"
            ],
            "image/png": "[encoded data removed]"
          },
          "metadata": {}
        }
      ],
      "source": [
        "n_samples_show = 8\n",
        "\n",
        "data_iter = iter(train_loader)\n",
        "fig, axes = plt.subplots(nrows=1, ncols=n_samples_show, figsize=(10, 3))\n",
        "\n",
        "while n_samples_show > 0:\n",
        "    images, targets = data_iter.__next__()\n",
        "\n",
        "    axes[n_samples_show - 1].imshow(images[0, 0].numpy().squeeze(), cmap=\"gray\")\n",
        "    axes[n_samples_show - 1].set_xticks([])\n",
        "    axes[n_samples_show - 1].set_yticks([])\n",
        "    axes[n_samples_show - 1].set_title(\"Labeled: {}\".format(targets[0].item()))\n",
        "\n",
        "    n_samples_show -= 1"
      ]
    },
    {
      "cell_type": "code",
      "execution_count": null,
      "id": "748d8ce6-b263-404d-ba6b-4515e374f982",
      "metadata": {
        "id": "748d8ce6-b263-404d-ba6b-4515e374f982"
      },
      "outputs": [],
      "source": [
        "# PyTorch 모델을 정의하기 위한 기본 클래스들을 가져옵니다.\n",
        "from torch.nn import Module\n",
        "import torch.nn.functional as F\n",
        "from torch.nn import Conv2d, Dropout2d, Linear\n",
        "from torch import cat"
      ]
    },
    {
      "cell_type": "code",
      "execution_count": null,
      "id": "30984ac6-e693-474b-bb01-aadaede99149",
      "metadata": {
        "id": "30984ac6-e693-474b-bb01-aadaede99149"
      },
      "outputs": [],
      "source": [
        "# PyTorch의 기본 데이터 타입을 float64로 설정합니다.\n",
        "torch.set_default_dtype(torch.float64)\n",
        "\n",
        "# CNN과 QNN을 결합한 하이브리드 이진 분류 모델을 정의합니다.\n",
        "class BinaryClassifier(Module):\n",
        "    def __init__(self):\n",
        "        super().__init__()\n",
        "        # 고전적인 CNN 레이어들을 정의합니다.\n",
        "        self.conv1 = Conv2d(1, 2, kernel_size=5) # 1채널 입력, 2채널 출력, 5x5 커널\n",
        "        self.conv2 = Conv2d(2, 16, kernel_size=5) # 2채널 입력, 16채널 출력, 5x5 커널\n",
        "        self.dropout = Dropout2d() # 과적합 방지를 위한 드롭아웃 레이어\n",
        "        self.fc1 = Linear(256, 64) # Fully-connected 레이어 1\n",
        "        self.fc2 = Linear(64, 2)   # Fully-connected 레이어 2 (양자 회로 입력용)\n",
        "        self.fc3 = Linear(1, 1)    # 양자 회로 출력 후 최종 결과를 위한 FC 레이어\n",
        "\n",
        "        # 양자 회로(QNN) 부분을 정의합니다.\n",
        "        self.q_device = qml.device(\"default.qubit\", wires=2) # 2개의 큐빗을 사용하는 시뮬레이터 디바이스\n",
        "        # 학습 가능한 양자 회로의 파라미터를 정의합니다.\n",
        "        self.qnn_params = Parameter(torch.rand(8), requires_grad= True)\n",
        "        # 측정할 관측량(Observable)을 정의합니다. (두 큐빗의 Pauli-Z 연산자 텐서곱)\n",
        "        self.obs = qml.PauliZ(0) @ qml.PauliZ(1)\n",
        "\n",
        "        # 양자 회로를 qml.qnode로 정의합니다.\n",
        "        @qml.qnode(self.q_device)\n",
        "        def circuit(x):\n",
        "            # 데이터 인코딩 부분: 입력 데이터 x를 양자 상태로 인코딩합니다.\n",
        "            qml.H(wires=0)\n",
        "            qml.H(wires=1)\n",
        "\n",
        "            qml.RZ(2.*x[0], wires=0) # RZ 게이트를 사용하여 x[0] 인코딩\n",
        "            qml.RZ(2.*x[1], wires=0) # RZ 게이트를 사용하여 x[1] 인코딩\n",
        "\n",
        "            qml.CNOT(wires=[0, 1])\n",
        "            qml.RZ(2.*(torch.pi - x[0])*(torch.pi - x[1]), wires=1)\n",
        "            qml.CNOT(wires=[0, 1])\n",
        "            #------------------------------------------\n",
        "            # 학습 가능한 양자 연산 부분 (Variational Circuit)\n",
        "            qml.RY(2.*self.qnn_params[0], wires=0)\n",
        "            qml.RY(2.*self.qnn_params[1], wires=1)\n",
        "            qml.CNOT(wires=[0, 1])\n",
        "            qml.RY(2.*self.qnn_params[2], wires=0)\n",
        "            qml.RY(2.*self.qnn_params[3], wires=1)\n",
        "            qml.CNOT(wires=[1, 0])\n",
        "            qml.RY(2.*self.qnn_params[4], wires=0)\n",
        "            qml.RY(2.*self.qnn_params[5], wires=1)\n",
        "            qml.CNOT(wires=[0, 1])\n",
        "            qml.RY(2.*self.qnn_params[6], wires=0)\n",
        "            qml.RY(2.*self.qnn_params[7], wires=1)\n",
        "\n",
        "            # 관측량의 기댓값을 측정하여 반환합니다.\n",
        "            return qml.expval(self.obs)\n",
        "\n",
        "        self.qnn = circuit # 클래스 멤버로 양자 회로를 할당합니다.\n",
        "\n",
        "    # 모델의 순전파 과정을 정의합니다.\n",
        "    def forward(self, x):\n",
        "        # CNN 부분\n",
        "        x = F.relu(self.conv1(x)) # 첫 번째 합성곱 레이어와 ReLU 활성화 함수\n",
        "        x = F.max_pool2d(x, 2)    # Max-pooling\n",
        "        x = F.relu(self.conv2(x)) # 두 번째 합성곱 레이어와 ReLU 활성화 함수\n",
        "        x = F.max_pool2d(x, 2)    # Max-pooling\n",
        "        x = self.dropout(x)       # 드롭아웃\n",
        "        x = x.view(-1)            # 1차원 벡터로 평탄화\n",
        "        x = F.relu(self.fc1(x))   # FC 레이어 1과 ReLU\n",
        "        x = self.fc2(x)           # FC 레이어 2 (양자 회로 입력 생성)\n",
        "        \n",
        "        # QNN 부분\n",
        "        x = self.qnn(x).view(1,)  # 양자 회로 적용\n",
        "        x = self.fc3(x)           # 최종 FC 레이어\n",
        "        \n",
        "        # 최종 출력: 두 클래스에 대한 로그 확률을 반환합니다.\n",
        "        return F.log_softmax(cat((x, 1 - x), -1), -1)"
      ]
    },
    {
      "cell_type": "code",
      "execution_count": null,
      "id": "962f6cdd-2cb5-4ac0-90c3-d346c35dcf54",
      "metadata": {
        "colab": {
          "base_uri": "https://localhost:8080/"
        },
        "id": "962f6cdd-2cb5-4ac0-90c3-d346c35dcf54",
        "outputId": "1d75c78d-dfd6-4410-c097-409ef4fcd4f5"
      },
      "outputs": [
        {
          "output_type": "execute_result",
          "data": {
            "text/plain": [
              "BinaryClassifier(\n",
              "  (conv1): Conv2d(1, 2, kernel_size=(5, 5), stride=(1, 1))\n",
              "  (conv2): Conv2d(2, 16, kernel_size=(5, 5), stride=(1, 1))\n",
              "  (dropout): Dropout2d(p=0.5, inplace=False)\n",
              "  (fc1): Linear(in_features=256, out_features=64, bias=True)\n",
              "  (fc2): Linear(in_features=64, out_features=2, bias=True)\n",
              "  (fc3): Linear(in_features=1, out_features=1, bias=True)\n",
              ")"
            ]
          },
          "metadata": {},
          "execution_count": 38
        }
      ],
      "source": [
        "# BinaryClassifier 모델의 인스턴스를 생성합니다.\n",
        "bc = BinaryClassifier()\n",
        "\n",
        "# 모델을 지정된 디바이스(CPU 또는 GPU)로 이동합니다.\n",
        "bc.to(device)"
      ]
    },
    {
      "cell_type": "code",
      "source": [
        "# 모델의 전체 학습 가능한 파라미터 수를 계산하고 출력합니다.\n",
        "total_params = sum(p.numel() for p in bc.parameters() if p.requires_grad)\n",
        "print(f\"Total number of trainable parameters: {total_params}\")\n"
      ],
      "metadata": {
        "colab": {
          "base_uri": "https://localhost:8080/"
        },
        "id": "auNuuj293J6t",
        "outputId": "10ccb4cb-a5db-4641-9b90-004a18634470"
      },
      "id": "auNuuj293J6t",
      "execution_count": null,
      "outputs": [
        {
          "output_type": "stream",
          "name": "stdout",
          "text": [
            "Total number of trainable parameters: 17456\n"
          ]
        }
      ]
    },
    {
      "cell_type": "code",
      "execution_count": null,
      "id": "K9GyWVZjyM8c",
      "metadata": {
        "id": "K9GyWVZjyM8c"
      },
      "outputs": [],
      "source": [
        "# ───── 학습 전에 회로 제약 조건 확인 ─────\n",
        "import pennylane as qml, torch\n",
        "\n",
        "# qml.specs를 사용하여 양자 회로의 상세 정보를 확인합니다.\n",
        "dummy_x = torch.tensor([0.0, 0.0], dtype=torch.float64) # 더미 입력 데이터\n",
        "specs = qml.specs(bc.qnn)(dummy_x) # 회로의 스펙(큐빗 수, 깊이 등)을 가져옵니다."
      ]
    },
    {
      "cell_type": "code",
      "execution_count": null,
      "id": "Cd5gteG9LLIw",
      "metadata": {
        "colab": {
          "base_uri": "https://localhost:8080/"
        },
        "id": "Cd5gteG9LLIw",
        "outputId": "6a9037a0-8de9-4569-f6c1-5389ec427a0d"
      },
      "outputs": [
        {
          "output_type": "execute_result",
          "data": {
            "text/plain": [
              "{'resources': Resources(num_wires=2, num_gates=18, gate_types=defaultdict(<class 'int'>, {'Hadamard': 2, 'RZ': 3, 'CNOT': 5, 'RY': 8}), gate_sizes=defaultdict(<class 'int'>, {1: 13, 2: 5}), depth=13, shots=Shots(total_shots=None, shot_vector=())),\n",
              " 'errors': {},\n",
              " 'num_observables': 1,\n",
              " 'num_trainable_params': 8,\n",
              " 'num_device_wires': 2,\n",
              " 'num_tape_wires': 2,\n",
              " 'device_name': 'default.qubit',\n",
              " 'level': 'gradient',\n",
              " 'gradient_options': {},\n",
              " 'interface': 'auto',\n",
              " 'diff_method': 'best',\n",
              " 'gradient_fn': 'backprop'}"
            ]
          },
          "metadata": {},
          "execution_count": 61
        }
      ],
      "source": [
        "# 회로 스펙을 출력하여 확인합니다.\n",
        "specs"
      ]
    },
    {
      "cell_type": "code",
      "execution_count": null,
      "id": "9P00jyeDLKFo",
      "metadata": {
        "colab": {
          "base_uri": "https://localhost:8080/"
        },
        "id": "9P00jyeDLKFo",
        "outputId": "124cf329-3a4d-42eb-f031-4aa1409b89f3"
      },
      "outputs": [
        {
          "output_type": "stream",
          "name": "stdout",
          "text": [
            "✅ 회로 제약 통과 — 학습을 계속합니다\n"
          ]
        }
      ],
      "source": [
        "# 대회에서 제시된 제약 조건을 만족하는지 확인합니다.\n",
        "assert specs[\"num_tape_wires\"] <= 8,  \"❌ 큐빗 수 초과\"\n",
        "assert specs['resources'].depth <= 30, \"❌ 회로 깊이 초과\"\n",
        "assert specs[\"num_trainable_params\"]<= 60, \"❌ 학습 퀀텀 파라미터 수 초과\"\n",
        "assert total_params <= 50000, \"❌ 학습 전체 파라미터 수 초과\"\n",
        "\n",
        "print(\"✅ 회로 제약 통과 — 학습을 계속합니다\")"
      ]
    },
    {
      "cell_type": "code",
      "execution_count": null,
      "id": "732e3ac0-4af7-48fc-9344-0a0569aa45c7",
      "metadata": {
        "colab": {
          "base_uri": "https://localhost:8080/"
        },
        "id": "732e3ac0-4af7-48fc-9344-0a0569aa45c7",
        "outputId": "bf845a8a-fa1c-45b9-c89c-e1d3d3acad46"
      },
      "outputs": [
        {
          "output_type": "execute_result",
          "data": {
            "text/plain": [
              "12000"
            ]
          },
          "metadata": {},
          "execution_count": 42
        }
      ],
      "source": [
        "# train_loader의 전체 배치 수를 확인합니다. (데이터셋 크기 / 배치 크기)\n",
        "len(iter(train_loader))"
      ]
    },
    {
      "cell_type": "code",
      "execution_count": null,
      "id": "63c3b336-ebfa-4db1-8796-0b1fec590b69",
      "metadata": {
        "id": "63c3b336-ebfa-4db1-8796-0b1fec590b69"
      },
      "outputs": [],
      "source": [
        "# train_loader에서 하나의 데이터 배치를 가져와 data와 target에 저장합니다.\n",
        "data, target = next(iter(train_loader))"
      ]
    },
    {
      "cell_type": "code",
      "execution_count": null,
      "id": "7bd41aef-c008-424e-a65c-62d7b2042f2d",
      "metadata": {
        "colab": {
          "base_uri": "https://localhost:8080/"
        },
        "id": "7bd41aef-c008-424e-a65c-62d7b2042f2d",
        "outputId": "4c186e87-5fb8-46bc-9e1a-2bd685c0b7c4"
      },
      "outputs": [
        {
          "output_type": "execute_result",
          "data": {
            "text/plain": [
              "BinaryClassifier(\n",
              "  (conv1): Conv2d(1, 2, kernel_size=(5, 5), stride=(1, 1))\n",
              "  (conv2): Conv2d(2, 16, kernel_size=(5, 5), stride=(1, 1))\n",
              "  (dropout): Dropout2d(p=0.5, inplace=False)\n",
              "  (fc1): Linear(in_features=256, out_features=64, bias=True)\n",
              "  (fc2): Linear(in_features=64, out_features=2, bias=True)\n",
              "  (fc3): Linear(in_features=1, out_features=1, bias=True)\n",
              ")"
            ]
          },
          "metadata": {},
          "execution_count": 44
        }
      ],
      "source": [
        "# 옵티마이저와 손실 함수를 정의합니다.\n",
        "optimizer = Adam(bc.parameters(), lr=0.0001) # Adam 옵티마이저를 사용하고 학습률을 0.0001로 설정합니다.\n",
        "loss_func  = NLLLoss() # Negative Log Likelihood Loss를 손실 함수로 사용합니다.\n",
        "\n",
        "# 학습을 위한 에포크 수를 설정하고, 손실 기록을 위한 리스트를 초기화합니다.\n",
        "epochs = 1\n",
        "loss_history = []\n",
        "bc.train() # 모델을 학습 모드로 설정합니다."
      ]
    },
    {
      "cell_type": "code",
      "execution_count": null,
      "id": "ee582e81-3ca8-4b17-8a64-c528c0a6eadb",
      "metadata": {
        "colab": {
          "base_uri": "https://localhost:8080/"
        },
        "id": "ee582e81-3ca8-4b17-8a64-c528c0a6eadb",
        "outputId": "27b45c47-abb1-4958-ffe7-149962452f1d"
      },
      "outputs": [
        {
          "output_type": "execute_result",
          "data": {
            "text/plain": [
              "torch.Size([1, 1, 28, 28])"
            ]
          },
          "metadata": {},
          "execution_count": 45
        }
      ],
      "source": [
        "# 데이터의 형태(shape)를 확인합니다. [배치 크기, 채널, 높이, 너비] 순서입니다.\n",
        "data.shape"
      ]
    },
    {
      "cell_type": "code",
      "execution_count": null,
      "id": "5a00a12f-e4ca-4152-837b-f352d57cdd30",
      "metadata": {
        "colab": {
          "base_uri": "https://localhost:8080/"
        },
        "id": "5a00a12f-e4ca-4152-837b-f352d57cdd30",
        "outputId": "49b29870-0939-438f-cd8b-8e5ea7fe9d40"
      },
      "outputs": [
        {
          "output_type": "stream",
          "name": "stderr",
          "text": [
            "                                                                                          "
          ]
        },
        {
          "output_type": "stream",
          "name": "stdout",
          "text": [
            "Training [100%] Loss: 0.6863\n"
          ]
        },
        {
          "output_type": "stream",
          "name": "stderr",
          "text": [
            "\r"
          ]
        }
      ],
      "source": [
        "# tqdm 라이브러리를 사용하여 학습 진행 상황을 시각적으로 보여줍니다.\n",
        "from tqdm import tqdm\n",
        "\n",
        "# 설정된 에포크 수만큼 학습을 반복합니다.\n",
        "for epoch in range(epochs):\n",
        "    # 에폭 진행률 바를 생성합니다.\n",
        "    epoch_bar = tqdm(range(len(train_loader)),\n",
        "                     desc=f\"Epoch {epoch+1}/{epochs}\",\n",
        "                     leave=False)   # leave=False는 다음 에폭 진행 시 현재 바를 덮어씁니다.\n",
        "\n",
        "    total_loss = [] # 에폭별 평균 손실을 계산하기 위한 리스트입니다.\n",
        "    for bidx, (data, target) in zip(epoch_bar, train_loader):\n",
        "        optimizer.zero_grad(set_to_none=True) # 이전 배치의 그래디언트를 초기화합니다.\n",
        "\n",
        "        output = bc(data) # 모델에 데이터를 입력하여 예측 결과를 얻습니다.\n",
        "        loss   = loss_func(output, target.squeeze()) # 예측 결과와 실제 레이블 간의 손실을 계산합니다.\n",
        "\n",
        "        total_loss.append(loss.item()) # 현재 배치의 손실을 기록합니다.\n",
        "        loss.backward() # 역전파를 통해 그래디언트를 계산합니다.\n",
        "        optimizer.step() # 계산된 그래디언트를 사용하여 모델의 파라미터를 업데이트합니다.\n",
        "\n",
        "        # 100 배치마다 진행 상황을 출력합니다.\n",
        "        if bidx % 100 == 0:\n",
        "            epoch_bar.set_postfix(batch=bidx,\n",
        "                                  loss=f\"{loss.item():.4f}\")\n",
        "\n",
        "    # 한 에폭이 끝나면 평균 손실을 계산하고 기록합니다.\n",
        "    avg_loss = sum(total_loss) / len(total_loss)\n",
        "    loss_history.append(avg_loss)\n",
        "\n",
        "    # 에폭 요약 정보를 출력합니다.\n",
        "    print(f\"Training [{100.0 * (epoch+1)/epochs:.0f}%] \"\n",
        "          f\"Loss: {avg_loss:.4f}\")"
      ]
    },
    {
      "cell_type": "markdown",
      "id": "T0GtZULeavQ5",
      "metadata": {
        "id": "T0GtZULeavQ5"
      },
      "source": [
        "# 모델 추론"
      ]
    },
    {
      "cell_type": "code",
      "execution_count": null,
      "id": "2izX1vUBbE0z",
      "metadata": {
        "colab": {
          "base_uri": "https://localhost:8080/"
        },
        "id": "2izX1vUBbE0z",
        "outputId": "bc42e427-8c64-46cc-d49f-a58a6baedfaf"
      },
      "outputs": [
        {
          "output_type": "stream",
          "name": "stderr",
          "text": []
        }
      ],
      "source": [
        "from datetime import datetime\n",
        "\n",
        "# 테스트 데이터셋을 위한 DataLoader를 생성합니다.\n",
        "test_loader = DataLoader(\n",
        "    test_ds,\n",
        "    batch_size=1,\n",
        "    shuffle=False # 추론 시에는 데이터를 섞을 필요가 없습니다.\n",
        ")\n",
        "\n",
        "bc.eval() # 모델을 평가 모드로 설정합니다. (Dropout 등 비활성화)\n",
        "\n",
        "all_preds, all_targets = [], [] # 모든 예측과 실제 레이블을 저장할 리스트입니다.\n",
        "\n",
        "with torch.no_grad(): # 그래디언트 계산을 비활성화하여 추론 속도를 높입니다.\n",
        "    for data, target in tqdm(test_loader,\n",
        "                             desc=\"Inference\",\n",
        "                             total=len(test_loader),\n",
        "                             leave=False):\n",
        "        data, target = data.to(device), target.to(device) # 데이터를 해당 디바이스(CPU 또는 GPU)로 이동합니다.\n",
        "\n",
        "        logits = bc(data) # 모델을 통해 예측 로짓을 얻습니다.\n",
        "\n",
        "        pred = logits.argmax().view(1) # 가장 높은 확률을 가진 클래스를 예측 결과로 선택합니다.\n",
        "\n",
        "        all_preds.append(pred.cpu()) # 예측 결과를 CPU로 옮겨 저장합니다.\n",
        "        all_targets.append(target.view(-1).cpu()) # 실제 레이블을 CPU로 옮겨 저장합니다.\n",
        "\n",
        "# 리스트를 텐서로 변환하고 numpy 배열로 변환합니다.\n",
        "y_pred = torch.cat(all_preds).numpy().astype(int)\n",
        "y_true = torch.cat(all_targets).numpy().astype(int)"
      ]
    },
    {
      "cell_type": "markdown",
      "id": "6VFFoiSkipiZ",
      "metadata": {
        "id": "6VFFoiSkipiZ"
      },
      "source": [
        " # 평가 및 결과 저장"
      ]
    },
    {
      "cell_type": "code",
      "execution_count": null,
      "id": "BdTFuLPxil_z",
      "metadata": {
        "colab": {
          "base_uri": "https://localhost:8080/"
        },
        "id": "BdTFuLPxil_z",
        "outputId": "9d063bd9-30d7-4e66-b342-04f3d31ab576"
      },
      "outputs": [
        {
          "output_type": "stream",
          "name": "stdout",
          "text": [
            "total samples: 10000\n",
            "target samples: 2000\n",
            "accuracy (labels 0/6 only): 0.7895\n"
          ]
        }
      ],
      "source": [
        "# 레이블 0과 6에 해당하는 데이터만 선택하여 평가합니다.\n",
        "test_mask = (y_true == 0) | (y_true == 6)\n",
        "\n",
        "print(\"total samples:\", len(y_true)) # 전체 테스트 샘플 수를 출력합니다.\n",
        "print(\"target samples:\", test_mask.sum()) # 평가 대상 샘플 수를 출력합니다.\n",
        "\n",
        "# 모델의 예측 결과에서 레이블 1을 6으로 다시 매핑합니다. (학습 시 6을 1로 변환했기 때문)\n",
        "y_pred_mapped = np.where(y_pred == 1, 6, y_pred)\n",
        "\n",
        "# 정확도를 계산합니다.\n",
        "acc = (y_pred_mapped[test_mask] == y_true[test_mask]).mean()\n",
        "print(f\"accuracy (labels 0/6 only): {acc:.4f}\")\n",
        "\n",
        "# 현재 시각을 사용하여 제출 파일의 이름을 생성합니다.\n",
        "now = datetime.now().strftime(\"%Y%m%d_%H%M%S\")\n",
        "\n",
        "# 예측 결과를 CSV 파일로 저장합니다.\n",
        "y_pred_filename = f\"y_pred_{now}.csv\"\n",
        "\n",
        "np.savetxt(y_pred_filename, y_pred_mapped, fmt=\"%d\")"
      ]
    },
    {
      "cell_type": "code",
      "execution_count": null,
      "id": "MJQm4ZhGdOQ4",
      "metadata": {
        "id": "MJQm4ZhGdOQ4"
      },
      "outputs": [],
      "source": []
    },
    {
      "cell_type": "markdown",
      "id": "Auq1t1kzZ_2x",
      "metadata": {
        "id": "Auq1t1kzZ_2x"
      },
      "source": [
        "# 모델 추론 결과 파일 다운로드\n",
        "\n",
        "자동으로 다운로드되는 파일을 [제출하기](https://aifactory.space/task/9154/submit) 페이지에 업로드하면 자동으로 채점이 되며 정상적으로 채점이 된다면 리더보드에서 자기점수를 확인할 수 있습니다.\n"
      ]
    },
    {
      "cell_type": "code",
      "execution_count": null,
      "id": "lAoYOar873j9",
      "metadata": {
        "colab": {
          "base_uri": "https://localhost:8080/",
          "height": 17
        },
        "id": "lAoYOar873j9",
        "outputId": "44541ceb-30c8-4b40-b3de-a1155810e1c5"
      },
      "outputs": [
        {
          "output_type": "display_data",
          "data": {
            "text/plain": [
              "<IPython.core.display.Javascript object>"
            ],
            "application/javascript": [
              "\n",
              "    async function download(id, filename, size) {\n",
              "      if (!google.colab.kernel.accessAllowed) {\n",
              "        return;\n",
              "      }\n",
              "      const div = document.createElement('div');\n",
              "      const label = document.createElement('label');\n",
              "      label.textContent = `Downloading \"${filename}\": `;\n",
              "      div.appendChild(label);\n",
              "      const progress = document.createElement('progress');\n",
              "      progress.max = size;\n",
              "      div.appendChild(progress);\n",
              "      document.body.appendChild(div);\n",
              "\n",
              "      const buffers = [];\n",
              "      let downloaded = 0;\n",
              "\n",
              "      const channel = await google.colab.kernel.comms.open(id);\n",
              "      // Send a message to notify the kernel that we're ready.\n",
              "      channel.send({})\n",
              "\n",
              "      for await (const message of channel.messages) {\n",
              "        // Send a message to notify the kernel that we're ready.\n",
              "        channel.send({})\n",
              "        if (message.buffers) {\n",
              "          for (const buffer of message.buffers) {\n",
              "            buffers.push(buffer);\n",
              "            downloaded += buffer.byteLength;\n",
              "            progress.value = downloaded;\n",
              "          }\n",
              "        }\n",
              "      }\n",
              "      const blob = new Blob(buffers, {type: 'application/binary'});\n",
              "      const a = document.createElement('a');\n",
              "      a.href = window.URL.createObjectURL(blob);\n",
              "      a.download = filename;\n",
              "      div.appendChild(a);\n",
              "      a.click();\n",
              "      div.remove();\n",
              "    }\n",
              "  "
            ]
          },
          "metadata": {}
        },
        {
          "output_type": "display_data",
          "data": {
            "text/plain": [
              "<IPython.core.display.Javascript object>"
            ],
            "application/javascript": [
              "download(\"download_d777a0e5-3d4a-46b6-a6d8-e50aa9cfd802\", \"y_pred_20250714_121143.csv\", 20000)"
            ]
          },
          "metadata": {}
        }
      ],
      "source": [
        "# Colab 환경에서 생성된 CSV 파일을 로컬로 다운로드합니다.\n",
        "from google.colab import files\n",
        "\n",
        "files.download(y_pred_filename)"
      ]
    },
    {
      "cell_type": "code",
      "execution_count": null,
      "id": "6XlVgYn6rcxo",
      "metadata": {
        "id": "6XlVgYn6rcxo"
      },
      "outputs": [],
      "source": []
    }
  ],
  "metadata": {
    "colab": {
      "provenance": []
    },
    "kernelspec": {
      "display_name": "Python 3",
      "name": "python3"
    },
    "language_info": {
      "name": "python"
    }
  },
  "nbformat": 4,
  "nbformat_minor": 5
}